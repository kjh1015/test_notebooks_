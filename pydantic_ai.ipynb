{
 "cells": [
  {
   "cell_type": "code",
   "execution_count": 1,
   "metadata": {},
   "outputs": [
    {
     "name": "stdout",
     "output_type": "stream",
     "text": [
      "Collecting pydantic-ai\n",
      "  Downloading pydantic_ai-0.0.17-py3-none-any.whl.metadata (11 kB)\n",
      "Collecting pydantic-ai-slim==0.0.17 (from pydantic-ai-slim[anthropic,groq,mistral,openai,vertexai]==0.0.17->pydantic-ai)\n",
      "  Downloading pydantic_ai_slim-0.0.17-py3-none-any.whl.metadata (2.7 kB)\n",
      "Requirement already satisfied: eval-type-backport>=0.2.0 in c:\\users\\dnsoft\\test_notebooks_\\.venv\\lib\\site-packages (from pydantic-ai-slim==0.0.17->pydantic-ai-slim[anthropic,groq,mistral,openai,vertexai]==0.0.17->pydantic-ai) (0.2.0)\n",
      "Collecting griffe>=1.3.2 (from pydantic-ai-slim==0.0.17->pydantic-ai-slim[anthropic,groq,mistral,openai,vertexai]==0.0.17->pydantic-ai)\n",
      "  Downloading griffe-1.5.4-py3-none-any.whl.metadata (5.0 kB)\n",
      "Requirement already satisfied: httpx>=0.27.2 in c:\\users\\dnsoft\\test_notebooks_\\.venv\\lib\\site-packages (from pydantic-ai-slim==0.0.17->pydantic-ai-slim[anthropic,groq,mistral,openai,vertexai]==0.0.17->pydantic-ai) (0.27.2)\n",
      "Collecting logfire-api>=1.2.0 (from pydantic-ai-slim==0.0.17->pydantic-ai-slim[anthropic,groq,mistral,openai,vertexai]==0.0.17->pydantic-ai)\n",
      "  Downloading logfire_api-2.11.1-py3-none-any.whl.metadata (972 bytes)\n",
      "Collecting pydantic>=2.10 (from pydantic-ai-slim==0.0.17->pydantic-ai-slim[anthropic,groq,mistral,openai,vertexai]==0.0.17->pydantic-ai)\n",
      "  Downloading pydantic-2.10.4-py3-none-any.whl.metadata (29 kB)\n",
      "Requirement already satisfied: anthropic>=0.40.0 in c:\\users\\dnsoft\\test_notebooks_\\.venv\\lib\\site-packages (from pydantic-ai-slim[anthropic,groq,mistral,openai,vertexai]==0.0.17->pydantic-ai) (0.42.0)\n",
      "Collecting groq>=0.12.0 (from pydantic-ai-slim[anthropic,groq,mistral,openai,vertexai]==0.0.17->pydantic-ai)\n",
      "  Downloading groq-0.13.1-py3-none-any.whl.metadata (14 kB)\n",
      "Collecting mistralai>=1.2.5 (from pydantic-ai-slim[anthropic,groq,mistral,openai,vertexai]==0.0.17->pydantic-ai)\n",
      "  Downloading mistralai-1.2.6-py3-none-any.whl.metadata (28 kB)\n",
      "Requirement already satisfied: openai>=1.54.3 in c:\\users\\dnsoft\\test_notebooks_\\.venv\\lib\\site-packages (from pydantic-ai-slim[anthropic,groq,mistral,openai,vertexai]==0.0.17->pydantic-ai) (1.58.1)\n",
      "Collecting google-auth>=2.36.0 (from pydantic-ai-slim[anthropic,groq,mistral,openai,vertexai]==0.0.17->pydantic-ai)\n",
      "  Downloading google_auth-2.37.0-py2.py3-none-any.whl.metadata (4.8 kB)\n",
      "Requirement already satisfied: requests>=2.32.3 in c:\\users\\dnsoft\\test_notebooks_\\.venv\\lib\\site-packages (from pydantic-ai-slim[anthropic,groq,mistral,openai,vertexai]==0.0.17->pydantic-ai) (2.32.3)\n",
      "Requirement already satisfied: anyio<5,>=3.5.0 in c:\\users\\dnsoft\\test_notebooks_\\.venv\\lib\\site-packages (from anthropic>=0.40.0->pydantic-ai-slim[anthropic,groq,mistral,openai,vertexai]==0.0.17->pydantic-ai) (4.7.0)\n",
      "Requirement already satisfied: distro<2,>=1.7.0 in c:\\users\\dnsoft\\test_notebooks_\\.venv\\lib\\site-packages (from anthropic>=0.40.0->pydantic-ai-slim[anthropic,groq,mistral,openai,vertexai]==0.0.17->pydantic-ai) (1.9.0)\n",
      "Requirement already satisfied: jiter<1,>=0.4.0 in c:\\users\\dnsoft\\test_notebooks_\\.venv\\lib\\site-packages (from anthropic>=0.40.0->pydantic-ai-slim[anthropic,groq,mistral,openai,vertexai]==0.0.17->pydantic-ai) (0.8.2)\n",
      "Requirement already satisfied: sniffio in c:\\users\\dnsoft\\test_notebooks_\\.venv\\lib\\site-packages (from anthropic>=0.40.0->pydantic-ai-slim[anthropic,groq,mistral,openai,vertexai]==0.0.17->pydantic-ai) (1.3.1)\n",
      "Requirement already satisfied: typing-extensions<5,>=4.10 in c:\\users\\dnsoft\\test_notebooks_\\.venv\\lib\\site-packages (from anthropic>=0.40.0->pydantic-ai-slim[anthropic,groq,mistral,openai,vertexai]==0.0.17->pydantic-ai) (4.12.2)\n",
      "Collecting cachetools<6.0,>=2.0.0 (from google-auth>=2.36.0->pydantic-ai-slim[anthropic,groq,mistral,openai,vertexai]==0.0.17->pydantic-ai)\n",
      "  Using cached cachetools-5.5.0-py3-none-any.whl.metadata (5.3 kB)\n",
      "Collecting pyasn1-modules>=0.2.1 (from google-auth>=2.36.0->pydantic-ai-slim[anthropic,groq,mistral,openai,vertexai]==0.0.17->pydantic-ai)\n",
      "  Downloading pyasn1_modules-0.4.1-py3-none-any.whl.metadata (3.5 kB)\n",
      "Collecting rsa<5,>=3.1.4 (from google-auth>=2.36.0->pydantic-ai-slim[anthropic,groq,mistral,openai,vertexai]==0.0.17->pydantic-ai)\n",
      "  Using cached rsa-4.9-py3-none-any.whl.metadata (4.2 kB)\n",
      "Requirement already satisfied: colorama>=0.4 in c:\\users\\dnsoft\\test_notebooks_\\.venv\\lib\\site-packages (from griffe>=1.3.2->pydantic-ai-slim==0.0.17->pydantic-ai-slim[anthropic,groq,mistral,openai,vertexai]==0.0.17->pydantic-ai) (0.4.6)\n",
      "Requirement already satisfied: certifi in c:\\users\\dnsoft\\test_notebooks_\\.venv\\lib\\site-packages (from httpx>=0.27.2->pydantic-ai-slim==0.0.17->pydantic-ai-slim[anthropic,groq,mistral,openai,vertexai]==0.0.17->pydantic-ai) (2024.12.14)\n",
      "Requirement already satisfied: httpcore==1.* in c:\\users\\dnsoft\\test_notebooks_\\.venv\\lib\\site-packages (from httpx>=0.27.2->pydantic-ai-slim==0.0.17->pydantic-ai-slim[anthropic,groq,mistral,openai,vertexai]==0.0.17->pydantic-ai) (1.0.7)\n",
      "Requirement already satisfied: idna in c:\\users\\dnsoft\\test_notebooks_\\.venv\\lib\\site-packages (from httpx>=0.27.2->pydantic-ai-slim==0.0.17->pydantic-ai-slim[anthropic,groq,mistral,openai,vertexai]==0.0.17->pydantic-ai) (3.10)\n",
      "Requirement already satisfied: h11<0.15,>=0.13 in c:\\users\\dnsoft\\test_notebooks_\\.venv\\lib\\site-packages (from httpcore==1.*->httpx>=0.27.2->pydantic-ai-slim==0.0.17->pydantic-ai-slim[anthropic,groq,mistral,openai,vertexai]==0.0.17->pydantic-ai) (0.14.0)\n",
      "Requirement already satisfied: jsonpath-python<2.0.0,>=1.0.6 in c:\\users\\dnsoft\\test_notebooks_\\.venv\\lib\\site-packages (from mistralai>=1.2.5->pydantic-ai-slim[anthropic,groq,mistral,openai,vertexai]==0.0.17->pydantic-ai) (1.0.6)\n",
      "Requirement already satisfied: python-dateutil<3.0.0,>=2.8.2 in c:\\users\\dnsoft\\test_notebooks_\\.venv\\lib\\site-packages (from mistralai>=1.2.5->pydantic-ai-slim[anthropic,groq,mistral,openai,vertexai]==0.0.17->pydantic-ai) (2.9.0.post0)\n",
      "Requirement already satisfied: typing-inspect<0.10.0,>=0.9.0 in c:\\users\\dnsoft\\test_notebooks_\\.venv\\lib\\site-packages (from mistralai>=1.2.5->pydantic-ai-slim[anthropic,groq,mistral,openai,vertexai]==0.0.17->pydantic-ai) (0.9.0)\n",
      "Requirement already satisfied: tqdm>4 in c:\\users\\dnsoft\\test_notebooks_\\.venv\\lib\\site-packages (from openai>=1.54.3->pydantic-ai-slim[anthropic,groq,mistral,openai,vertexai]==0.0.17->pydantic-ai) (4.67.1)\n",
      "Requirement already satisfied: annotated-types>=0.6.0 in c:\\users\\dnsoft\\test_notebooks_\\.venv\\lib\\site-packages (from pydantic>=2.10->pydantic-ai-slim==0.0.17->pydantic-ai-slim[anthropic,groq,mistral,openai,vertexai]==0.0.17->pydantic-ai) (0.7.0)\n",
      "Collecting pydantic-core==2.27.2 (from pydantic>=2.10->pydantic-ai-slim==0.0.17->pydantic-ai-slim[anthropic,groq,mistral,openai,vertexai]==0.0.17->pydantic-ai)\n",
      "  Downloading pydantic_core-2.27.2-cp312-cp312-win_amd64.whl.metadata (6.7 kB)\n",
      "Requirement already satisfied: charset-normalizer<4,>=2 in c:\\users\\dnsoft\\test_notebooks_\\.venv\\lib\\site-packages (from requests>=2.32.3->pydantic-ai-slim[anthropic,groq,mistral,openai,vertexai]==0.0.17->pydantic-ai) (3.4.0)\n",
      "Requirement already satisfied: urllib3<3,>=1.21.1 in c:\\users\\dnsoft\\test_notebooks_\\.venv\\lib\\site-packages (from requests>=2.32.3->pydantic-ai-slim[anthropic,groq,mistral,openai,vertexai]==0.0.17->pydantic-ai) (2.2.3)\n",
      "Collecting pyasn1<0.7.0,>=0.4.6 (from pyasn1-modules>=0.2.1->google-auth>=2.36.0->pydantic-ai-slim[anthropic,groq,mistral,openai,vertexai]==0.0.17->pydantic-ai)\n",
      "  Downloading pyasn1-0.6.1-py3-none-any.whl.metadata (8.4 kB)\n",
      "Requirement already satisfied: six>=1.5 in c:\\users\\dnsoft\\test_notebooks_\\.venv\\lib\\site-packages (from python-dateutil<3.0.0,>=2.8.2->mistralai>=1.2.5->pydantic-ai-slim[anthropic,groq,mistral,openai,vertexai]==0.0.17->pydantic-ai) (1.17.0)\n",
      "Requirement already satisfied: mypy-extensions>=0.3.0 in c:\\users\\dnsoft\\test_notebooks_\\.venv\\lib\\site-packages (from typing-inspect<0.10.0,>=0.9.0->mistralai>=1.2.5->pydantic-ai-slim[anthropic,groq,mistral,openai,vertexai]==0.0.17->pydantic-ai) (1.0.0)\n",
      "Downloading pydantic_ai-0.0.17-py3-none-any.whl (9.7 kB)\n",
      "Downloading pydantic_ai_slim-0.0.17-py3-none-any.whl (80 kB)\n",
      "Downloading google_auth-2.37.0-py2.py3-none-any.whl (209 kB)\n",
      "Downloading griffe-1.5.4-py3-none-any.whl (128 kB)\n",
      "Downloading groq-0.13.1-py3-none-any.whl (109 kB)\n",
      "Downloading logfire_api-2.11.1-py3-none-any.whl (71 kB)\n",
      "Downloading mistralai-1.2.6-py3-none-any.whl (261 kB)\n",
      "Downloading pydantic-2.10.4-py3-none-any.whl (431 kB)\n",
      "Downloading pydantic_core-2.27.2-cp312-cp312-win_amd64.whl (2.0 MB)\n",
      "   ---------------------------------------- 0.0/2.0 MB ? eta -:--:--\n",
      "   ---------------------------------------- 2.0/2.0 MB 11.0 MB/s eta 0:00:00\n",
      "Using cached cachetools-5.5.0-py3-none-any.whl (9.5 kB)\n",
      "Downloading pyasn1_modules-0.4.1-py3-none-any.whl (181 kB)\n",
      "Using cached rsa-4.9-py3-none-any.whl (34 kB)\n",
      "Downloading pyasn1-0.6.1-py3-none-any.whl (83 kB)\n",
      "Installing collected packages: pydantic-core, pyasn1, logfire-api, griffe, cachetools, rsa, pydantic, pyasn1-modules, pydantic-ai-slim, mistralai, groq, google-auth, pydantic-ai\n",
      "  Attempting uninstall: pydantic-core\n",
      "    Found existing installation: pydantic_core 2.23.4\n",
      "    Uninstalling pydantic_core-2.23.4:\n",
      "      Successfully uninstalled pydantic_core-2.23.4\n",
      "  Attempting uninstall: pydantic\n",
      "    Found existing installation: pydantic 2.9.2\n",
      "    Uninstalling pydantic-2.9.2:\n",
      "      Successfully uninstalled pydantic-2.9.2\n",
      "  Attempting uninstall: groq\n",
      "    Found existing installation: groq 0.11.0\n",
      "    Uninstalling groq-0.11.0:\n",
      "      Successfully uninstalled groq-0.11.0\n",
      "Successfully installed cachetools-5.5.0 google-auth-2.37.0 griffe-1.5.4 groq-0.13.1 logfire-api-2.11.1 mistralai-1.2.6 pyasn1-0.6.1 pyasn1-modules-0.4.1 pydantic-2.10.4 pydantic-ai-0.0.17 pydantic-ai-slim-0.0.17 pydantic-core-2.27.2 rsa-4.9\n"
     ]
    },
    {
     "name": "stderr",
     "output_type": "stream",
     "text": [
      "ERROR: pip's dependency resolver does not currently take into account all the packages that are installed. This behaviour is the source of the following dependency conflicts.\n",
      "unstructured-client 0.28.1 requires aiofiles>=24.1.0, but you have aiofiles 23.2.1 which is incompatible.\n",
      "unstructured-client 0.28.1 requires pydantic<2.10.0,>=2.9.2, but you have pydantic 2.10.4 which is incompatible.\n"
     ]
    }
   ],
   "source": [
    "!pip install pydantic-ai\n"
   ]
  },
  {
   "cell_type": "code",
   "execution_count": 1,
   "metadata": {},
   "outputs": [],
   "source": [
    "import os\n",
    "from dotenv import load_dotenv\n",
    "from langchain_openai import ChatOpenAI\n",
    "from langchain.prompts import PromptTemplate\n",
    "\n",
    "# Load environment variables\n",
    "load_dotenv()\n",
    "\n",
    "# Set up OpenAI API key\n",
    "os.environ[\"OPENAI_API_KEY\"] = os.getenv(\"OPENAI_API_KEY\")"
   ]
  },
  {
   "cell_type": "code",
   "execution_count": 2,
   "metadata": {},
   "outputs": [],
   "source": [
    "from pydantic_ai import Agent\n",
    "\n",
    "agent = Agent('openai:gpt-4o', system_prompt='Be a helpful assistant.')\n",
    "\n"
   ]
  },
  {
   "cell_type": "code",
   "execution_count": 4,
   "metadata": {},
   "outputs": [],
   "source": [
    "import nest_asyncio\n",
    "nest_asyncio.apply()"
   ]
  },
  {
   "cell_type": "code",
   "execution_count": 5,
   "metadata": {},
   "outputs": [],
   "source": [
    "result = agent.run_sync('Tell me a joke.')\n"
   ]
  },
  {
   "cell_type": "code",
   "execution_count": 6,
   "metadata": {},
   "outputs": [
    {
     "name": "stdout",
     "output_type": "stream",
     "text": [
      "[ModelRequest(parts=[SystemPromptPart(content='Be a helpful assistant.', part_kind='system-prompt'), UserPromptPart(content='Tell me a joke.', timestamp=datetime.datetime(2025, 1, 7, 2, 4, 53, 95058, tzinfo=datetime.timezone.utc), part_kind='user-prompt')], kind='request'), ModelResponse(parts=[TextPart(content=\"Why don't scientists trust atoms?\\n\\nBecause they make up everything!\", part_kind='text')], timestamp=datetime.datetime(2025, 1, 7, 2, 4, 53, tzinfo=datetime.timezone.utc), kind='response')]\n"
     ]
    }
   ],
   "source": [
    "#> Did you hear about the toothpaste scandal? They called it Colgate.\n",
    "\n",
    "# all messages from the run\n",
    "print(result.all_messages())"
   ]
  },
  {
   "cell_type": "code",
   "execution_count": null,
   "metadata": {},
   "outputs": [],
   "source": []
  }
 ],
 "metadata": {
  "kernelspec": {
   "display_name": ".venv",
   "language": "python",
   "name": "python3"
  },
  "language_info": {
   "codemirror_mode": {
    "name": "ipython",
    "version": 3
   },
   "file_extension": ".py",
   "mimetype": "text/x-python",
   "name": "python",
   "nbconvert_exporter": "python",
   "pygments_lexer": "ipython3",
   "version": "3.12.0"
  }
 },
 "nbformat": 4,
 "nbformat_minor": 2
}
