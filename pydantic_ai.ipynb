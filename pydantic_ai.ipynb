{
 "cells": [
  {
   "cell_type": "code",
   "execution_count": 1,
   "metadata": {},
   "outputs": [
    {
     "name": "stdout",
     "output_type": "stream",
     "text": [
      "Collecting pydantic-ai\n",
      "  Downloading pydantic_ai-0.0.17-py3-none-any.whl.metadata (11 kB)\n",
      "Collecting pydantic-ai-slim==0.0.17 (from pydantic-ai-slim[anthropic,groq,mistral,openai,vertexai]==0.0.17->pydantic-ai)\n",
      "  Downloading pydantic_ai_slim-0.0.17-py3-none-any.whl.metadata (2.7 kB)\n",
      "Requirement already satisfied: eval-type-backport>=0.2.0 in c:\\users\\dnsoft\\test_notebooks_\\.venv\\lib\\site-packages (from pydantic-ai-slim==0.0.17->pydantic-ai-slim[anthropic,groq,mistral,openai,vertexai]==0.0.17->pydantic-ai) (0.2.0)\n",
      "Collecting griffe>=1.3.2 (from pydantic-ai-slim==0.0.17->pydantic-ai-slim[anthropic,groq,mistral,openai,vertexai]==0.0.17->pydantic-ai)\n",
      "  Downloading griffe-1.5.4-py3-none-any.whl.metadata (5.0 kB)\n",
      "Requirement already satisfied: httpx>=0.27.2 in c:\\users\\dnsoft\\test_notebooks_\\.venv\\lib\\site-packages (from pydantic-ai-slim==0.0.17->pydantic-ai-slim[anthropic,groq,mistral,openai,vertexai]==0.0.17->pydantic-ai) (0.27.2)\n",
      "Collecting logfire-api>=1.2.0 (from pydantic-ai-slim==0.0.17->pydantic-ai-slim[anthropic,groq,mistral,openai,vertexai]==0.0.17->pydantic-ai)\n",
      "  Downloading logfire_api-2.11.1-py3-none-any.whl.metadata (972 bytes)\n",
      "Collecting pydantic>=2.10 (from pydantic-ai-slim==0.0.17->pydantic-ai-slim[anthropic,groq,mistral,openai,vertexai]==0.0.17->pydantic-ai)\n",
      "  Downloading pydantic-2.10.4-py3-none-any.whl.metadata (29 kB)\n",
      "Requirement already satisfied: anthropic>=0.40.0 in c:\\users\\dnsoft\\test_notebooks_\\.venv\\lib\\site-packages (from pydantic-ai-slim[anthropic,groq,mistral,openai,vertexai]==0.0.17->pydantic-ai) (0.42.0)\n",
      "Collecting groq>=0.12.0 (from pydantic-ai-slim[anthropic,groq,mistral,openai,vertexai]==0.0.17->pydantic-ai)\n",
      "  Downloading groq-0.13.1-py3-none-any.whl.metadata (14 kB)\n",
      "Collecting mistralai>=1.2.5 (from pydantic-ai-slim[anthropic,groq,mistral,openai,vertexai]==0.0.17->pydantic-ai)\n",
      "  Downloading mistralai-1.2.6-py3-none-any.whl.metadata (28 kB)\n",
      "Requirement already satisfied: openai>=1.54.3 in c:\\users\\dnsoft\\test_notebooks_\\.venv\\lib\\site-packages (from pydantic-ai-slim[anthropic,groq,mistral,openai,vertexai]==0.0.17->pydantic-ai) (1.58.1)\n",
      "Collecting google-auth>=2.36.0 (from pydantic-ai-slim[anthropic,groq,mistral,openai,vertexai]==0.0.17->pydantic-ai)\n",
      "  Downloading google_auth-2.37.0-py2.py3-none-any.whl.metadata (4.8 kB)\n",
      "Requirement already satisfied: requests>=2.32.3 in c:\\users\\dnsoft\\test_notebooks_\\.venv\\lib\\site-packages (from pydantic-ai-slim[anthropic,groq,mistral,openai,vertexai]==0.0.17->pydantic-ai) (2.32.3)\n",
      "Requirement already satisfied: anyio<5,>=3.5.0 in c:\\users\\dnsoft\\test_notebooks_\\.venv\\lib\\site-packages (from anthropic>=0.40.0->pydantic-ai-slim[anthropic,groq,mistral,openai,vertexai]==0.0.17->pydantic-ai) (4.7.0)\n",
      "Requirement already satisfied: distro<2,>=1.7.0 in c:\\users\\dnsoft\\test_notebooks_\\.venv\\lib\\site-packages (from anthropic>=0.40.0->pydantic-ai-slim[anthropic,groq,mistral,openai,vertexai]==0.0.17->pydantic-ai) (1.9.0)\n",
      "Requirement already satisfied: jiter<1,>=0.4.0 in c:\\users\\dnsoft\\test_notebooks_\\.venv\\lib\\site-packages (from anthropic>=0.40.0->pydantic-ai-slim[anthropic,groq,mistral,openai,vertexai]==0.0.17->pydantic-ai) (0.8.2)\n",
      "Requirement already satisfied: sniffio in c:\\users\\dnsoft\\test_notebooks_\\.venv\\lib\\site-packages (from anthropic>=0.40.0->pydantic-ai-slim[anthropic,groq,mistral,openai,vertexai]==0.0.17->pydantic-ai) (1.3.1)\n",
      "Requirement already satisfied: typing-extensions<5,>=4.10 in c:\\users\\dnsoft\\test_notebooks_\\.venv\\lib\\site-packages (from anthropic>=0.40.0->pydantic-ai-slim[anthropic,groq,mistral,openai,vertexai]==0.0.17->pydantic-ai) (4.12.2)\n",
      "Collecting cachetools<6.0,>=2.0.0 (from google-auth>=2.36.0->pydantic-ai-slim[anthropic,groq,mistral,openai,vertexai]==0.0.17->pydantic-ai)\n",
      "  Using cached cachetools-5.5.0-py3-none-any.whl.metadata (5.3 kB)\n",
      "Collecting pyasn1-modules>=0.2.1 (from google-auth>=2.36.0->pydantic-ai-slim[anthropic,groq,mistral,openai,vertexai]==0.0.17->pydantic-ai)\n",
      "  Downloading pyasn1_modules-0.4.1-py3-none-any.whl.metadata (3.5 kB)\n",
      "Collecting rsa<5,>=3.1.4 (from google-auth>=2.36.0->pydantic-ai-slim[anthropic,groq,mistral,openai,vertexai]==0.0.17->pydantic-ai)\n",
      "  Using cached rsa-4.9-py3-none-any.whl.metadata (4.2 kB)\n",
      "Requirement already satisfied: colorama>=0.4 in c:\\users\\dnsoft\\test_notebooks_\\.venv\\lib\\site-packages (from griffe>=1.3.2->pydantic-ai-slim==0.0.17->pydantic-ai-slim[anthropic,groq,mistral,openai,vertexai]==0.0.17->pydantic-ai) (0.4.6)\n",
      "Requirement already satisfied: certifi in c:\\users\\dnsoft\\test_notebooks_\\.venv\\lib\\site-packages (from httpx>=0.27.2->pydantic-ai-slim==0.0.17->pydantic-ai-slim[anthropic,groq,mistral,openai,vertexai]==0.0.17->pydantic-ai) (2024.12.14)\n",
      "Requirement already satisfied: httpcore==1.* in c:\\users\\dnsoft\\test_notebooks_\\.venv\\lib\\site-packages (from httpx>=0.27.2->pydantic-ai-slim==0.0.17->pydantic-ai-slim[anthropic,groq,mistral,openai,vertexai]==0.0.17->pydantic-ai) (1.0.7)\n",
      "Requirement already satisfied: idna in c:\\users\\dnsoft\\test_notebooks_\\.venv\\lib\\site-packages (from httpx>=0.27.2->pydantic-ai-slim==0.0.17->pydantic-ai-slim[anthropic,groq,mistral,openai,vertexai]==0.0.17->pydantic-ai) (3.10)\n",
      "Requirement already satisfied: h11<0.15,>=0.13 in c:\\users\\dnsoft\\test_notebooks_\\.venv\\lib\\site-packages (from httpcore==1.*->httpx>=0.27.2->pydantic-ai-slim==0.0.17->pydantic-ai-slim[anthropic,groq,mistral,openai,vertexai]==0.0.17->pydantic-ai) (0.14.0)\n",
      "Requirement already satisfied: jsonpath-python<2.0.0,>=1.0.6 in c:\\users\\dnsoft\\test_notebooks_\\.venv\\lib\\site-packages (from mistralai>=1.2.5->pydantic-ai-slim[anthropic,groq,mistral,openai,vertexai]==0.0.17->pydantic-ai) (1.0.6)\n",
      "Requirement already satisfied: python-dateutil<3.0.0,>=2.8.2 in c:\\users\\dnsoft\\test_notebooks_\\.venv\\lib\\site-packages (from mistralai>=1.2.5->pydantic-ai-slim[anthropic,groq,mistral,openai,vertexai]==0.0.17->pydantic-ai) (2.9.0.post0)\n",
      "Requirement already satisfied: typing-inspect<0.10.0,>=0.9.0 in c:\\users\\dnsoft\\test_notebooks_\\.venv\\lib\\site-packages (from mistralai>=1.2.5->pydantic-ai-slim[anthropic,groq,mistral,openai,vertexai]==0.0.17->pydantic-ai) (0.9.0)\n",
      "Requirement already satisfied: tqdm>4 in c:\\users\\dnsoft\\test_notebooks_\\.venv\\lib\\site-packages (from openai>=1.54.3->pydantic-ai-slim[anthropic,groq,mistral,openai,vertexai]==0.0.17->pydantic-ai) (4.67.1)\n",
      "Requirement already satisfied: annotated-types>=0.6.0 in c:\\users\\dnsoft\\test_notebooks_\\.venv\\lib\\site-packages (from pydantic>=2.10->pydantic-ai-slim==0.0.17->pydantic-ai-slim[anthropic,groq,mistral,openai,vertexai]==0.0.17->pydantic-ai) (0.7.0)\n",
      "Collecting pydantic-core==2.27.2 (from pydantic>=2.10->pydantic-ai-slim==0.0.17->pydantic-ai-slim[anthropic,groq,mistral,openai,vertexai]==0.0.17->pydantic-ai)\n",
      "  Downloading pydantic_core-2.27.2-cp312-cp312-win_amd64.whl.metadata (6.7 kB)\n",
      "Requirement already satisfied: charset-normalizer<4,>=2 in c:\\users\\dnsoft\\test_notebooks_\\.venv\\lib\\site-packages (from requests>=2.32.3->pydantic-ai-slim[anthropic,groq,mistral,openai,vertexai]==0.0.17->pydantic-ai) (3.4.0)\n",
      "Requirement already satisfied: urllib3<3,>=1.21.1 in c:\\users\\dnsoft\\test_notebooks_\\.venv\\lib\\site-packages (from requests>=2.32.3->pydantic-ai-slim[anthropic,groq,mistral,openai,vertexai]==0.0.17->pydantic-ai) (2.2.3)\n",
      "Collecting pyasn1<0.7.0,>=0.4.6 (from pyasn1-modules>=0.2.1->google-auth>=2.36.0->pydantic-ai-slim[anthropic,groq,mistral,openai,vertexai]==0.0.17->pydantic-ai)\n",
      "  Downloading pyasn1-0.6.1-py3-none-any.whl.metadata (8.4 kB)\n",
      "Requirement already satisfied: six>=1.5 in c:\\users\\dnsoft\\test_notebooks_\\.venv\\lib\\site-packages (from python-dateutil<3.0.0,>=2.8.2->mistralai>=1.2.5->pydantic-ai-slim[anthropic,groq,mistral,openai,vertexai]==0.0.17->pydantic-ai) (1.17.0)\n",
      "Requirement already satisfied: mypy-extensions>=0.3.0 in c:\\users\\dnsoft\\test_notebooks_\\.venv\\lib\\site-packages (from typing-inspect<0.10.0,>=0.9.0->mistralai>=1.2.5->pydantic-ai-slim[anthropic,groq,mistral,openai,vertexai]==0.0.17->pydantic-ai) (1.0.0)\n",
      "Downloading pydantic_ai-0.0.17-py3-none-any.whl (9.7 kB)\n",
      "Downloading pydantic_ai_slim-0.0.17-py3-none-any.whl (80 kB)\n",
      "Downloading google_auth-2.37.0-py2.py3-none-any.whl (209 kB)\n",
      "Downloading griffe-1.5.4-py3-none-any.whl (128 kB)\n",
      "Downloading groq-0.13.1-py3-none-any.whl (109 kB)\n",
      "Downloading logfire_api-2.11.1-py3-none-any.whl (71 kB)\n",
      "Downloading mistralai-1.2.6-py3-none-any.whl (261 kB)\n",
      "Downloading pydantic-2.10.4-py3-none-any.whl (431 kB)\n",
      "Downloading pydantic_core-2.27.2-cp312-cp312-win_amd64.whl (2.0 MB)\n",
      "   ---------------------------------------- 0.0/2.0 MB ? eta -:--:--\n",
      "   ---------------------------------------- 2.0/2.0 MB 11.0 MB/s eta 0:00:00\n",
      "Using cached cachetools-5.5.0-py3-none-any.whl (9.5 kB)\n",
      "Downloading pyasn1_modules-0.4.1-py3-none-any.whl (181 kB)\n",
      "Using cached rsa-4.9-py3-none-any.whl (34 kB)\n",
      "Downloading pyasn1-0.6.1-py3-none-any.whl (83 kB)\n",
      "Installing collected packages: pydantic-core, pyasn1, logfire-api, griffe, cachetools, rsa, pydantic, pyasn1-modules, pydantic-ai-slim, mistralai, groq, google-auth, pydantic-ai\n",
      "  Attempting uninstall: pydantic-core\n",
      "    Found existing installation: pydantic_core 2.23.4\n",
      "    Uninstalling pydantic_core-2.23.4:\n",
      "      Successfully uninstalled pydantic_core-2.23.4\n",
      "  Attempting uninstall: pydantic\n",
      "    Found existing installation: pydantic 2.9.2\n",
      "    Uninstalling pydantic-2.9.2:\n",
      "      Successfully uninstalled pydantic-2.9.2\n",
      "  Attempting uninstall: groq\n",
      "    Found existing installation: groq 0.11.0\n",
      "    Uninstalling groq-0.11.0:\n",
      "      Successfully uninstalled groq-0.11.0\n",
      "Successfully installed cachetools-5.5.0 google-auth-2.37.0 griffe-1.5.4 groq-0.13.1 logfire-api-2.11.1 mistralai-1.2.6 pyasn1-0.6.1 pyasn1-modules-0.4.1 pydantic-2.10.4 pydantic-ai-0.0.17 pydantic-ai-slim-0.0.17 pydantic-core-2.27.2 rsa-4.9\n"
     ]
    },
    {
     "name": "stderr",
     "output_type": "stream",
     "text": [
      "ERROR: pip's dependency resolver does not currently take into account all the packages that are installed. This behaviour is the source of the following dependency conflicts.\n",
      "unstructured-client 0.28.1 requires aiofiles>=24.1.0, but you have aiofiles 23.2.1 which is incompatible.\n",
      "unstructured-client 0.28.1 requires pydantic<2.10.0,>=2.9.2, but you have pydantic 2.10.4 which is incompatible.\n"
     ]
    }
   ],
   "source": [
    "!pip install pydantic-ai\n"
   ]
  },
  {
   "cell_type": "code",
   "execution_count": 21,
   "metadata": {},
   "outputs": [],
   "source": [
    "import os\n",
    "from dotenv import load_dotenv\n",
    "from langchain_openai import ChatOpenAI\n",
    "from langchain.prompts import PromptTemplate\n",
    "\n",
    "# Load environment variables\n",
    "load_dotenv()\n",
    "\n",
    "# Set up OpenAI API key\n",
    "os.environ[\"OPENAI_API_KEY\"] = os.getenv(\"OPENAI_API_KEY\")"
   ]
  },
  {
   "cell_type": "code",
   "execution_count": 22,
   "metadata": {},
   "outputs": [],
   "source": [
    "from pydantic_ai import Agent\n",
    "\n",
    "agent = Agent('openai:gpt-4o', system_prompt='Be a helpful assistant.')\n",
    "\n"
   ]
  },
  {
   "cell_type": "code",
   "execution_count": 23,
   "metadata": {},
   "outputs": [],
   "source": [
    "# import nest_asyncio\n",
    "# nest_asyncio.apply()"
   ]
  },
  {
   "cell_type": "code",
   "execution_count": 24,
   "metadata": {},
   "outputs": [],
   "source": [
    "# result = agent.run_sync('Tell me a joke.')\n",
    "result = agent.run_sync('Tell me a joke.')"
   ]
  },
  {
   "cell_type": "code",
   "execution_count": 25,
   "metadata": {},
   "outputs": [
    {
     "data": {
      "text/plain": [
       "RunResult(_all_messages=[ModelRequest(parts=[SystemPromptPart(content='Be a helpful assistant.', part_kind='system-prompt'), UserPromptPart(content='Tell me a joke.', timestamp=datetime.datetime(2025, 1, 7, 7, 30, 25, 120023, tzinfo=datetime.timezone.utc), part_kind='user-prompt')], kind='request'), ModelResponse(parts=[TextPart(content=\"Sure! Here's one: Why don't scientists trust atoms? Because they make up everything!\", part_kind='text')], timestamp=datetime.datetime(2025, 1, 7, 7, 30, 25, tzinfo=datetime.timezone.utc), kind='response')], _new_message_index=0, data=\"Sure! Here's one: Why don't scientists trust atoms? Because they make up everything!\", _result_tool_name=None, _usage=Usage(requests=1, request_tokens=21, response_tokens=18, total_tokens=39, details={'accepted_prediction_tokens': 0, 'audio_tokens': 0, 'reasoning_tokens': 0, 'rejected_prediction_tokens': 0, 'cached_tokens': 0}))"
      ]
     },
     "execution_count": 25,
     "metadata": {},
     "output_type": "execute_result"
    }
   ],
   "source": [
    "result\n"
   ]
  },
  {
   "cell_type": "code",
   "execution_count": 31,
   "metadata": {},
   "outputs": [
    {
     "name": "stdout",
     "output_type": "stream",
     "text": [
      "[ModelRequest(parts=[SystemPromptPart(content='Be a helpful assistant.', part_kind='system-prompt'), UserPromptPart(content='Tell me a joke.', timestamp=datetime.datetime(2025, 1, 7, 7, 30, 25, 120023, tzinfo=datetime.timezone.utc), part_kind='user-prompt')], kind='request'), ModelResponse(parts=[TextPart(content=\"Sure! Here's one: Why don't scientists trust atoms? Because they make up everything!\", part_kind='text')], timestamp=datetime.datetime(2025, 1, 7, 7, 30, 25, tzinfo=datetime.timezone.utc), kind='response')]\n"
     ]
    }
   ],
   "source": [
    "#> Did you hear about the toothpaste scandal? They called it Colgate.\n",
    "\n",
    "# all messages from the run\n",
    "print(result.new_messages())"
   ]
  },
  {
   "cell_type": "code",
   "execution_count": 34,
   "metadata": {},
   "outputs": [
    {
     "data": {
      "text/plain": [
       "[ModelRequest(parts=[SystemPromptPart(content='Be a helpful assistant.', part_kind='system-prompt'), UserPromptPart(content='Tell me a joke.', timestamp=datetime.datetime(2025, 1, 7, 7, 30, 25, 120023, tzinfo=datetime.timezone.utc), part_kind='user-prompt')], kind='request'),\n",
       " ModelResponse(parts=[TextPart(content=\"Sure! Here's one: Why don't scientists trust atoms? Because they make up everything!\", part_kind='text')], timestamp=datetime.datetime(2025, 1, 7, 7, 30, 25, tzinfo=datetime.timezone.utc), kind='response')]"
      ]
     },
     "execution_count": 34,
     "metadata": {},
     "output_type": "execute_result"
    }
   ],
   "source": [
    "result.all_messages()\n"
   ]
  },
  {
   "cell_type": "code",
   "execution_count": 33,
   "metadata": {},
   "outputs": [
    {
     "data": {
      "text/plain": [
       "\"Sure! Here's one: Why don't scientists trust atoms? Because they make up everything!\""
      ]
     },
     "execution_count": 33,
     "metadata": {},
     "output_type": "execute_result"
    }
   ],
   "source": [
    "result.data\n"
   ]
  },
  {
   "cell_type": "markdown",
   "metadata": {},
   "source": [
    "## roulette_wheel"
   ]
  },
  {
   "cell_type": "code",
   "execution_count": 36,
   "metadata": {},
   "outputs": [
    {
     "name": "stdout",
     "output_type": "stream",
     "text": [
      "True\n",
      "False\n"
     ]
    }
   ],
   "source": [
    "from pydantic_ai import Agent, RunContext\n",
    "\n",
    "roulette_agent = Agent(  \n",
    "    'openai:gpt-4o',\n",
    "    deps_type=int,\n",
    "    result_type=bool,\n",
    "    system_prompt=(\n",
    "        'Use the `roulette_wheel` function to see if the '\n",
    "        'customer has won based on the number they provide.'\n",
    "    ),\n",
    ")\n",
    "\n",
    "\n",
    "@roulette_agent.tool\n",
    "async def roulette_wheel(ctx: RunContext[int], square: int) -> str:  # ctx is the context of the run\n",
    "    \"\"\"check if the square is a winner\"\"\"\n",
    "    return 'winner' if square == ctx.deps else 'loser'\n",
    "\n",
    "\n",
    "# Run the agent\n",
    "success_number = 18  \n",
    "result = roulette_agent.run_sync('Put my money on square eighteen', deps=success_number)\n",
    "print(result.data)  \n",
    "#> True\n",
    "\n",
    "result = roulette_agent.run_sync('I bet five is the winner', deps=success_number)\n",
    "print(result.data)\n",
    "#> False"
   ]
  },
  {
   "cell_type": "markdown",
   "metadata": {},
   "source": [
    "## run_agent"
   ]
  },
  {
   "cell_type": "code",
   "execution_count": 37,
   "metadata": {},
   "outputs": [
    {
     "name": "stdout",
     "output_type": "stream",
     "text": [
      "The capital of Italy is Rome.\n"
     ]
    }
   ],
   "source": [
    "from pydantic_ai import Agent\n",
    "\n",
    "agent = Agent('openai:gpt-4o')\n",
    "\n",
    "result_sync = agent.run_sync('What is the capital of Italy?')\n",
    "print(result_sync.data)\n",
    "#> Rome\n",
    "\n",
    "\n",
    "async def main():\n",
    "    result = await agent.run('What is the capital of France?')\n",
    "    print(result.data)\n",
    "    #> Paris\n",
    "\n",
    "    async with agent.run_stream('What is the capital of the UK?') as response:\n",
    "        print(await response.get_data())\n",
    "        #> London"
   ]
  },
  {
   "cell_type": "code",
   "execution_count": 38,
   "metadata": {},
   "outputs": [
    {
     "name": "stdout",
     "output_type": "stream",
     "text": [
      "Rome\n",
      "Usage(requests=1, request_tokens=20, response_tokens=2, total_tokens=22, details={'accepted_prediction_tokens': 0, 'audio_tokens': 0, 'reasoning_tokens': 0, 'rejected_prediction_tokens': 0, 'cached_tokens': 0})\n",
      "Exceeded the response_tokens_limit of 10 (response_tokens=173)\n"
     ]
    }
   ],
   "source": [
    "from pydantic_ai import Agent\n",
    "from pydantic_ai.exceptions import UsageLimitExceeded\n",
    "from pydantic_ai.usage import UsageLimits\n",
    "\n",
    "agent = Agent('openai:gpt-4o')\n",
    "\n",
    "result_sync = agent.run_sync(\n",
    "    'What is the capital of Italy? Answer with just the city.',\n",
    "    usage_limits=UsageLimits(response_tokens_limit=10),\n",
    ")\n",
    "print(result_sync.data)\n",
    "#> Rome\n",
    "print(result_sync.usage())\n",
    "\"\"\"\n",
    "Usage(requests=1, request_tokens=62, response_tokens=1, total_tokens=63, details=None)\n",
    "\"\"\"\n",
    "\n",
    "try:\n",
    "    result_sync = agent.run_sync(\n",
    "        'What is the capital of Italy? Answer with a paragraph.',\n",
    "        usage_limits=UsageLimits(response_tokens_limit=10),\n",
    "    )\n",
    "except UsageLimitExceeded as e:\n",
    "    print(e)\n",
    "    #> Exceeded the response_tokens_limit of 10 (response_tokens=32)"
   ]
  },
  {
   "cell_type": "code",
   "execution_count": 39,
   "metadata": {},
   "outputs": [
    {
     "name": "stdout",
     "output_type": "stream",
     "text": [
      "The next request would exceed the request_limit of 3\n"
     ]
    }
   ],
   "source": [
    "from typing_extensions import TypedDict\n",
    "\n",
    "from pydantic_ai import Agent, ModelRetry\n",
    "from pydantic_ai.exceptions import UsageLimitExceeded\n",
    "from pydantic_ai.usage import UsageLimits\n",
    "\n",
    "\n",
    "class NeverResultType(TypedDict):\n",
    "    \"\"\"\n",
    "    Never ever coerce data to this type.\n",
    "    \"\"\"\n",
    "\n",
    "    never_use_this: str\n",
    "\n",
    "\n",
    "agent = Agent(\n",
    "    'openai:gpt-4o',\n",
    "    result_type=NeverResultType,\n",
    "    system_prompt='Any time you get a response, call the `infinite_retry_tool` to produce another response.',\n",
    ")\n",
    "\n",
    "\n",
    "@agent.tool_plain(retries=5)  \n",
    "def infinite_retry_tool() -> int:\n",
    "    raise ModelRetry('Please try again.')\n",
    "\n",
    "\n",
    "try:\n",
    "    result_sync = agent.run_sync(\n",
    "        'Begin infinite retry loop!', usage_limits=UsageLimits(request_limit=3)  \n",
    "    )\n",
    "except UsageLimitExceeded as e:\n",
    "    print(e)\n",
    "    #> The next request would exceed the request_limit of 3"
   ]
  },
  {
   "cell_type": "markdown",
   "metadata": {},
   "source": [
    "## Model (Run) Settings"
   ]
  },
  {
   "cell_type": "code",
   "execution_count": 43,
   "metadata": {},
   "outputs": [
    {
     "name": "stdout",
     "output_type": "stream",
     "text": [
      "The capital of Italy is Rome.\n"
     ]
    }
   ],
   "source": [
    "from pydantic_ai import Agent\n",
    "\n",
    "agent = Agent('openai:gpt-4o')\n",
    "\n",
    "result_sync = agent.run_sync(\n",
    "    'What is the capital of Italy?', model_settings={'temperature': 0.0}\n",
    ")\n",
    "print(result_sync.data)"
   ]
  },
  {
   "cell_type": "markdown",
   "metadata": {},
   "source": [
    "### Runs vs. Conversations"
   ]
  },
  {
   "cell_type": "code",
   "execution_count": 44,
   "metadata": {},
   "outputs": [
    {
     "name": "stdout",
     "output_type": "stream",
     "text": [
      "Albert Einstein was a theoretical physicist widely regarded as one of the greatest and most influential scientists of all time. Born on March 14, 1879, in Ulm, in the Kingdom of Württemberg in the German Empire, he developed the theory of relativity, one of the two pillars of modern physics (the other being quantum mechanics). His mass-energy equivalence formula \\(E=mc^2\\) is among the most famous equations in physics.\n",
      "\n",
      "Einstein's work had a significant impact on the development of atomic energy and quantum theory. He received the Nobel Prize in Physics in 1921 for his explanation of the photoelectric effect, which was pivotal in establishing the quantum theory. Beyond his contributions to physics, Einstein was known for his philosophical insights on science, his advocacy for civil rights, his pacifism (though he later urged the Allies to develop the atomic bomb during World War II), and his humanitarian efforts.\n",
      "\n",
      "He spent the last two decades of his life in the United States, working at the Institute for Advanced Study in Princeton, New Jersey. Albert Einstein died on April 18, 1955, in Princeton.\n",
      "Albert Einstein's most famous equation is \\(E=mc^2\\), which expresses the equivalence of energy (\\(E\\)) and mass (\\(m\\)), with \\(c\\) being the speed of light in a vacuum (\\(c \\approx 299,792,458 \\text{ meters per second}\\)). This equation is derived from his theory of relativity and demonstrates that mass and energy are interchangeable; they can be converted into each other. The implication of this equation is profound, as it signifies that a small amount of mass can be converted into a large amount of energy, which is the principle behind nuclear reactions in stars and nuclear power.\n"
     ]
    }
   ],
   "source": [
    "from pydantic_ai import Agent\n",
    "\n",
    "agent = Agent('openai:gpt-4o')\n",
    "\n",
    "# First run\n",
    "result1 = agent.run_sync('Who was Albert Einstein?')\n",
    "print(result1.data)\n",
    "#> Albert Einstein was a German-born theoretical physicist.\n",
    "\n",
    "# Second run, passing previous messages\n",
    "result2 = agent.run_sync(\n",
    "    'What was his most famous equation?',\n",
    "    message_history=result1.new_messages(),  \n",
    ")\n",
    "print(result2.data)\n",
    "#> Albert Einstein's most famous equation is (E = mc^2)."
   ]
  },
  {
   "cell_type": "markdown",
   "metadata": {},
   "source": [
    "## Type safe by design"
   ]
  },
  {
   "cell_type": "code",
   "execution_count": 46,
   "metadata": {},
   "outputs": [],
   "source": [
    "from dataclasses import dataclass\n",
    "\n",
    "from pydantic_ai import Agent, RunContext\n",
    "\n",
    "\n",
    "@dataclass\n",
    "class User:\n",
    "    name: str\n",
    "\n",
    "\n",
    "agent = Agent(\n",
    "    'test',\n",
    "    deps_type=User,  \n",
    "    result_type=bool,\n",
    ")\n",
    "\n",
    "\n",
    "@agent.system_prompt\n",
    "def add_user_name(ctx: RunContext[str]) -> str:  \n",
    "    return f\"The user's name is {ctx.deps}.\"\n",
    "\n",
    "\n",
    "def foobar(x: bytes) -> None:\n",
    "    pass\n",
    "\n",
    "\n",
    "result = agent.run_sync('Does their name start with \"A\"?', deps=User('Anne'))\n",
    "foobar(result.data)"
   ]
  },
  {
   "cell_type": "markdown",
   "metadata": {},
   "source": [
    "## System Prompts"
   ]
  },
  {
   "cell_type": "markdown",
   "metadata": {},
   "source": [
    "1. Static system prompts: These are known when writing the code and can be defined via the `system_prompt` parameter of the `Agent constructor`.\n",
    "2. Dynamic system prompts: These depend in some way on context that `isn't known until runtime`, and should be defined via functions decorated with `@agent.system_prompt`.\n"
   ]
  },
  {
   "cell_type": "markdown",
   "metadata": {},
   "source": [
    "### system_prompts"
   ]
  },
  {
   "cell_type": "code",
   "execution_count": 52,
   "metadata": {},
   "outputs": [
    {
     "name": "stdout",
     "output_type": "stream",
     "text": [
      "Hello Frank! The date today is January 7, 2025. How can I assist you further?\n"
     ]
    }
   ],
   "source": [
    "from datetime import date\n",
    "\n",
    "from pydantic_ai import Agent, RunContext\n",
    "\n",
    "agent = Agent(\n",
    "    'openai:gpt-4o',\n",
    "    deps_type=str,  \n",
    "    system_prompt=\"Use the customer's name while replying to them.\",  \n",
    ")\n",
    "\n",
    "\n",
    "@agent.system_prompt  \n",
    "def add_the_users_name(ctx: RunContext[str]) -> str:\n",
    "    return f\"The user's name is {ctx.deps}.\"\n",
    "\n",
    "\n",
    "@agent.system_prompt\n",
    "def add_the_date() -> str:  \n",
    "    return f'The date is {date.today()}.'\n",
    "\n",
    "\n",
    "# result = agent.run_sync('What is the date?', deps='Frank')\n",
    "result = agent.run_sync('What is the date? I am Frank') # No need to pass deps\n",
    "print(result.data)\n",
    "#> Hello Frank, the date today is 2032-01-02.\n"
   ]
  },
  {
   "cell_type": "markdown",
   "metadata": {},
   "source": [
    "## Reflection and self-correction"
   ]
  },
  {
   "cell_type": "markdown",
   "metadata": {},
   "source": [
    "### tool_retry_"
   ]
  },
  {
   "cell_type": "code",
   "execution_count": 53,
   "metadata": {},
   "outputs": [
    {
     "ename": "ModuleNotFoundError",
     "evalue": "No module named 'fake_database'",
     "output_type": "error",
     "traceback": [
      "\u001b[1;31m---------------------------------------------------------------------------\u001b[0m",
      "\u001b[1;31mModuleNotFoundError\u001b[0m                       Traceback (most recent call last)",
      "Cell \u001b[1;32mIn[53], line 5\u001b[0m\n\u001b[0;32m      1\u001b[0m \u001b[38;5;28;01mfrom\u001b[39;00m \u001b[38;5;21;01mpydantic\u001b[39;00m \u001b[38;5;28;01mimport\u001b[39;00m BaseModel\n\u001b[0;32m      3\u001b[0m \u001b[38;5;28;01mfrom\u001b[39;00m \u001b[38;5;21;01mpydantic_ai\u001b[39;00m \u001b[38;5;28;01mimport\u001b[39;00m Agent, RunContext, ModelRetry\n\u001b[1;32m----> 5\u001b[0m \u001b[38;5;28;01mfrom\u001b[39;00m \u001b[38;5;21;01mfake_database\u001b[39;00m \u001b[38;5;28;01mimport\u001b[39;00m DatabaseConn\n\u001b[0;32m      8\u001b[0m \u001b[38;5;28;01mclass\u001b[39;00m \u001b[38;5;21;01mChatResult\u001b[39;00m(BaseModel):\n\u001b[0;32m      9\u001b[0m     user_id: \u001b[38;5;28mint\u001b[39m\n",
      "\u001b[1;31mModuleNotFoundError\u001b[0m: No module named 'fake_database'"
     ]
    }
   ],
   "source": [
    "from pydantic import BaseModel\n",
    "\n",
    "from pydantic_ai import Agent, RunContext, ModelRetry\n",
    "\n",
    "from fake_database import DatabaseConn\n",
    "\n",
    "\n",
    "class ChatResult(BaseModel):\n",
    "    user_id: int\n",
    "    message: str\n",
    "\n",
    "\n",
    "agent = Agent(\n",
    "    'openai:gpt-4o',\n",
    "    deps_type=DatabaseConn,\n",
    "    result_type=ChatResult,\n",
    ")\n",
    "\n",
    "\n",
    "@agent.tool(retries=2)\n",
    "def get_user_by_name(ctx: RunContext[DatabaseConn], name: str) -> int:\n",
    "    \"\"\"Get a user's ID from their full name.\"\"\"\n",
    "    print(name)\n",
    "    #> John\n",
    "    #> John Doe\n",
    "    user_id = ctx.deps.users.get(name=name)\n",
    "    if user_id is None:\n",
    "        raise ModelRetry(\n",
    "            f'No user found with name {name!r}, remember to provide their full name'\n",
    "        )\n",
    "    return user_id\n",
    "\n",
    "\n",
    "result = agent.run_sync(\n",
    "    'Send a message to John Doe asking for coffee next week', deps=DatabaseConn()\n",
    ")\n",
    "print(result.data)\n",
    "\"\"\"\n",
    "user_id=123 message='Hello John, would you be free for coffee sometime next week? Let me know what works for you!'\n",
    "\"\"\""
   ]
  },
  {
   "cell_type": "markdown",
   "metadata": {},
   "source": [
    "## Model errors"
   ]
  },
  {
   "cell_type": "code",
   "execution_count": 54,
   "metadata": {},
   "outputs": [
    {
     "name": "stdout",
     "output_type": "stream",
     "text": [
      "Looks like there was an issue calculating the volume. Can you please specify whether the size refers to the length of an edge or if there are more dimensions provided for the box? This will help me ensure accuracy in the volume calculation.\n"
     ]
    }
   ],
   "source": [
    "from pydantic_ai import Agent, ModelRetry, UnexpectedModelBehavior, capture_run_messages\n",
    "\n",
    "agent = Agent('openai:gpt-4o')\n",
    "\n",
    "\n",
    "@agent.tool_plain\n",
    "def calc_volume(size: int) -> int:  \n",
    "    if size == 42:\n",
    "        return size**3\n",
    "    else:\n",
    "        raise ModelRetry('Please try again.')\n",
    "\n",
    "\n",
    "with capture_run_messages() as messages:  \n",
    "    try:\n",
    "        result = agent.run_sync('Please get me the volume of a box with size 6.')\n",
    "    except UnexpectedModelBehavior as e:\n",
    "        print('An error occurred:', e)\n",
    "        #> An error occurred: Tool exceeded max retries count of 1\n",
    "        print('cause:', repr(e.__cause__))\n",
    "        #> cause: ModelRetry('Please try again.')\n",
    "        print('messages:', messages)\n",
    "        \"\"\"\n",
    "        messages:\n",
    "        [\n",
    "            ModelRequest(\n",
    "                parts=[\n",
    "                    UserPromptPart(\n",
    "                        content='Please get me the volume of a box with size 6.',\n",
    "                        timestamp=datetime.datetime(...),\n",
    "                        part_kind='user-prompt',\n",
    "                    )\n",
    "                ],\n",
    "                kind='request',\n",
    "            ),\n",
    "            ModelResponse(\n",
    "                parts=[\n",
    "                    ToolCallPart(\n",
    "                        tool_name='calc_volume',\n",
    "                        args=ArgsDict(args_dict={'size': 6}),\n",
    "                        tool_call_id=None,\n",
    "                        part_kind='tool-call',\n",
    "                    )\n",
    "                ],\n",
    "                timestamp=datetime.datetime(...),\n",
    "                kind='response',\n",
    "            ),\n",
    "            ModelRequest(\n",
    "                parts=[\n",
    "                    RetryPromptPart(\n",
    "                        content='Please try again.',\n",
    "                        tool_name='calc_volume',\n",
    "                        tool_call_id=None,\n",
    "                        timestamp=datetime.datetime(...),\n",
    "                        part_kind='retry-prompt',\n",
    "                    )\n",
    "                ],\n",
    "                kind='request',\n",
    "            ),\n",
    "            ModelResponse(\n",
    "                parts=[\n",
    "                    ToolCallPart(\n",
    "                        tool_name='calc_volume',\n",
    "                        args=ArgsDict(args_dict={'size': 6}),\n",
    "                        tool_call_id=None,\n",
    "                        part_kind='tool-call',\n",
    "                    )\n",
    "                ],\n",
    "                timestamp=datetime.datetime(...),\n",
    "                kind='response',\n",
    "            ),\n",
    "        ]\n",
    "        \"\"\"\n",
    "    else:\n",
    "        print(result.data)"
   ]
  },
  {
   "cell_type": "markdown",
   "metadata": {},
   "source": [
    "# Dependencies"
   ]
  },
  {
   "cell_type": "code",
   "execution_count": 56,
   "metadata": {},
   "outputs": [],
   "source": [
    "from dataclasses import dataclass\n",
    "\n",
    "import httpx\n",
    "\n",
    "from pydantic_ai import Agent\n",
    "\n",
    "\n",
    "@dataclass\n",
    "class MyDeps:  \n",
    "    api_key: str\n",
    "    http_client: httpx.AsyncClient\n",
    "\n",
    "\n",
    "agent = Agent(\n",
    "    'openai:gpt-4o',\n",
    "    deps_type=MyDeps,  \n",
    ")\n",
    "\n",
    "\n",
    "async def main():\n",
    "    async with httpx.AsyncClient() as client:\n",
    "        deps = MyDeps('foobar', client)\n",
    "        result = await agent.run(\n",
    "            'Tell me a joke.',\n",
    "            deps=deps,  \n",
    "        )\n",
    "        print(result.data)\n",
    "        #> Did you hear about the toothpaste scandal? They called it Colgate."
   ]
  },
  {
   "cell_type": "code",
   "execution_count": 60,
   "metadata": {},
   "outputs": [
    {
     "name": "stdout",
     "output_type": "stream",
     "text": [
      "Sorry Rich, you guessed 4, but the roll was 6. Better luck next time!\n"
     ]
    }
   ],
   "source": [
    "import random\n",
    "\n",
    "from pydantic_ai import Agent, RunContext\n",
    "\n",
    "agent = Agent(\n",
    "    'openai:gpt-4o',  \n",
    "    deps_type=str,  \n",
    "    system_prompt=(\n",
    "        \"You're a dice game, you should roll the die and see if the number \"\n",
    "        \"you get back matches the user's guess. If so, tell them they're a winner. \"\n",
    "        \"Use the player's name in the response.\"\n",
    "    ),\n",
    ")\n",
    "\n",
    "\n",
    "@agent.tool_plain  \n",
    "def roll_die() -> str:\n",
    "    \"\"\"Roll a six-sided die and return the result.\"\"\"\n",
    "    return str(random.randint(1, 6))\n",
    "\n",
    "\n",
    "@agent.tool  \n",
    "def get_player_name(ctx: RunContext[str]) -> str:\n",
    "    \"\"\"Get the player's name.\"\"\"\n",
    "    return ctx.deps\n",
    "\n",
    "\n",
    "# dice_result = agent.run_sync('My guess is 4', deps='Anne')  \n",
    "dice_result = agent.run_sync('My guess is 4 and I am Rich')  \n",
    "\n",
    "print(dice_result.data)\n",
    "#> Congratulations Anne, you guessed correctly! You're a winner!"
   ]
  },
  {
   "cell_type": "code",
   "execution_count": 61,
   "metadata": {},
   "outputs": [
    {
     "name": "stdout",
     "output_type": "stream",
     "text": [
      "The die rolled a 4, and the player's name is Anne. Your guess was spot on, Anne!\n"
     ]
    }
   ],
   "source": [
    "import random\n",
    "\n",
    "from pydantic_ai import Agent, RunContext, Tool\n",
    "\n",
    "\n",
    "def roll_die() -> str:\n",
    "    \"\"\"Roll a six-sided die and return the result.\"\"\"\n",
    "    return str(random.randint(1, 6))\n",
    "\n",
    "\n",
    "def get_player_name(ctx: RunContext[str]) -> str:\n",
    "    \"\"\"Get the player's name.\"\"\"\n",
    "    return ctx.deps\n",
    "\n",
    "\n",
    "agent_a = Agent(\n",
    "    'openai:gpt-4o',\n",
    "    deps_type=str,\n",
    "    tools=[roll_die, get_player_name],  \n",
    ")\n",
    "agent_b = Agent(\n",
    "    'openai:gpt-4o',\n",
    "    deps_type=str,\n",
    "    tools=[  \n",
    "        Tool(roll_die, takes_ctx=False),\n",
    "        Tool(get_player_name, takes_ctx=True),\n",
    "    ],\n",
    ")\n",
    "dice_result = agent_b.run_sync('My guess is 4', deps='Anne')\n",
    "print(dice_result.data)\n",
    "#> Congratulations Anne, you guessed correctly! You're a winner!"
   ]
  },
  {
   "cell_type": "markdown",
   "metadata": {},
   "source": [
    "### customize_name"
   ]
  },
  {
   "cell_type": "code",
   "execution_count": 62,
   "metadata": {},
   "outputs": [
    {
     "name": "stdout",
     "output_type": "stream",
     "text": [
      "{\"greet\":\"hello a\"}\n",
      "[ToolDefinition(name='greet', description='', parameters_json_schema={'properties': {'name': {'title': 'Name', 'type': 'string', 'description': 'Name of the human to greet.'}}, 'required': ['name'], 'type': 'object', 'additionalProperties': False}, outer_typed_dict_key=None)]\n"
     ]
    },
    {
     "data": {
      "text/plain": [
       "\"\\n[\\n    ToolDefinition(\\n        name='greet',\\n        description='',\\n        parameters_json_schema={\\n            'properties': {\\n                'name': {\\n                    'title': 'Name',\\n                    'type': 'string',\\n                    'description': 'Name of the human to greet.',\\n                }\\n            },\\n            'required': ['name'],\\n            'type': 'object',\\n            'additionalProperties': False,\\n        },\\n        outer_typed_dict_key=None,\\n    )\\n]\\n\""
      ]
     },
     "execution_count": 62,
     "metadata": {},
     "output_type": "execute_result"
    }
   ],
   "source": [
    "from __future__ import annotations\n",
    "\n",
    "from typing import Literal\n",
    "\n",
    "from pydantic_ai import Agent, RunContext\n",
    "from pydantic_ai.models.test import TestModel\n",
    "from pydantic_ai.tools import Tool, ToolDefinition\n",
    "\n",
    "\n",
    "def greet(name: str) -> str:\n",
    "    return f'hello {name}'\n",
    "\n",
    "\n",
    "async def prepare_greet(\n",
    "    ctx: RunContext[Literal['human', 'machine']], tool_def: ToolDefinition\n",
    ") -> ToolDefinition | None:\n",
    "    d = f'Name of the {ctx.deps} to greet.'\n",
    "    tool_def.parameters_json_schema['properties']['name']['description'] = d\n",
    "    return tool_def\n",
    "\n",
    "\n",
    "greet_tool = Tool(greet, prepare=prepare_greet)\n",
    "test_model = TestModel()\n",
    "agent = Agent(test_model, tools=[greet_tool], deps_type=Literal['human', 'machine'])\n",
    "\n",
    "result = agent.run_sync('testing...', deps='human')\n",
    "print(result.data)\n",
    "#> {\"greet\":\"hello a\"}\n",
    "print(test_model.agent_model_function_tools)\n",
    "\"\"\"\n",
    "[\n",
    "    ToolDefinition(\n",
    "        name='greet',\n",
    "        description='',\n",
    "        parameters_json_schema={\n",
    "            'properties': {\n",
    "                'name': {\n",
    "                    'title': 'Name',\n",
    "                    'type': 'string',\n",
    "                    'description': 'Name of the human to greet.',\n",
    "                }\n",
    "            },\n",
    "            'required': ['name'],\n",
    "            'type': 'object',\n",
    "            'additionalProperties': False,\n",
    "        },\n",
    "        outer_typed_dict_key=None,\n",
    "    )\n",
    "]\n",
    "\"\"\""
   ]
  },
  {
   "cell_type": "code",
   "execution_count": null,
   "metadata": {},
   "outputs": [],
   "source": []
  }
 ],
 "metadata": {
  "kernelspec": {
   "display_name": ".venv",
   "language": "python",
   "name": "python3"
  },
  "language_info": {
   "codemirror_mode": {
    "name": "ipython",
    "version": 3
   },
   "file_extension": ".py",
   "mimetype": "text/x-python",
   "name": "python",
   "nbconvert_exporter": "python",
   "pygments_lexer": "ipython3",
   "version": "3.12.0"
  }
 },
 "nbformat": 4,
 "nbformat_minor": 2
}
