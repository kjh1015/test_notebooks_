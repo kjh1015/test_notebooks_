{
 "cells": [
  {
   "cell_type": "code",
   "execution_count": 1,
   "metadata": {},
   "outputs": [],
   "source": [
    "import os\n",
    "from dotenv import load_dotenv\n",
    "from langchain_openai import ChatOpenAI\n",
    "from langchain.prompts import PromptTemplate\n",
    "\n",
    "# Load environment variables\n",
    "load_dotenv()\n",
    "# Set up OpenAI API key\n",
    "os.environ[\"OPENAI_API_KEY\"] = os.getenv(\"OPENAI_API_KEY\")\n",
    "os.environ[\"ANTHROPIC_API_KEY\"] = os.getenv(\"ANTHROPIC_API_KEY\")\n"
   ]
  },
  {
   "cell_type": "code",
   "execution_count": 6,
   "metadata": {},
   "outputs": [],
   "source": [
    "import ell\n",
    "ell.init(store='./log', autocommit=True)"
   ]
  },
  {
   "cell_type": "code",
   "execution_count": 7,
   "metadata": {},
   "outputs": [],
   "source": [
    "@ell.simple( model=\"gpt-4o-mini\", temperature=0.7 )\n",
    "def name_meaning(name: str) -> str:\n",
    "    \"\"\"\n",
    "    You are a chatbot that tells the meaning of person's name in a funny way.\n",
    "    \"\"\"\n",
    "    return f\"The person who approached you is named {name}.\"\n",
    "\n",
    "\n"
   ]
  },
  {
   "cell_type": "code",
   "execution_count": 8,
   "metadata": {},
   "outputs": [
    {
     "name": "stdout",
     "output_type": "stream",
     "text": [
      "Ah, Mordecai! The name that sounds like it should belong to a wise old wizard or perhaps the ruler of an ancient kingdom where everyone wears capes and has epic mustaches. The name actually means \"warrior\" or \"servant of Marduk,\" which is fitting because with a name like that, you either end up conquering kingdoms or serving snacks at your local game night. So, whether you're swinging a sword or just swinging by to grab a slice of pizza, Mordecai has got some serious vibes going on!\n"
     ]
    }
   ],
   "source": [
    "if __name__ == '__main__':\n",
    "    print( name_meaning(\"Mordecai\") )"
   ]
  },
  {
   "cell_type": "code",
   "execution_count": 9,
   "metadata": {},
   "outputs": [],
   "source": [
    "@ell.simple( model=\"gpt-4o-mini\", temperature=0.7 )\n",
    "def name_meaning(name: str, age: int) -> str:\n",
    "    \"\"\"\n",
    "    You are a chatbot that tells the meaning of person's name in a funny way.\n",
    "    Adapt your response to the person's age.\n",
    "    \"\"\"\n",
    "    return f\"The person who approached you is named {name}. Their age is {age}.\""
   ]
  },
  {
   "cell_type": "code",
   "execution_count": 10,
   "metadata": {},
   "outputs": [
    {
     "name": "stdout",
     "output_type": "stream",
     "text": [
      "Ah, Mordecai! The name that sounds like it could belong to a wise old owl or a hipster barista who serves artisanal coffee with a sprinkle of wisdom! At 20, you might not have the beard of a sage just yet, but your name suggests you’re destined to have deep conversations about life while sipping on something fancy. Just remember, if you ever start giving advice to people, make sure it’s not just about which video game to play next!\n",
      "Oh, Mordecai! What a big name for such a little superstar! It sounds like a wizard's name, doesn’t it? It’s like you’re destined to cast spells and make candy rain from the sky! So, watch out—one day you might just turn your broccoli into chocolate! Keep being awesome, little wizard! ✨🍭\n"
     ]
    }
   ],
   "source": [
    "if __name__ == '__main__':\n",
    "    print(name_meaning(\"Mordecai\", 20))\n",
    "    print(name_meaning(\"Mordecai\", 5))\n",
    "    "
   ]
  },
  {
   "cell_type": "markdown",
   "metadata": {},
   "source": [
    "## Defining tools for agents"
   ]
  },
  {
   "cell_type": "code",
   "execution_count": 11,
   "metadata": {},
   "outputs": [],
   "source": [
    "import math\n",
    "from pydantic import Field"
   ]
  },
  {
   "cell_type": "code",
   "execution_count": 12,
   "metadata": {},
   "outputs": [],
   "source": [
    "@ell.tool()\n",
    "def sin(angle: float = Field(description=\"Angle in degrees.\")) -> str:\n",
    "    \"\"\"Returns a value of sin(angle) with up 10 decimal places. For example sin(30) = 0.5.\"\"\"\n",
    "    value = math.sin(math.radians(angle))\n",
    "    return f\"{value:.10f}\""
   ]
  },
  {
   "cell_type": "code",
   "execution_count": 13,
   "metadata": {},
   "outputs": [],
   "source": [
    "from typing import List\n"
   ]
  },
  {
   "cell_type": "code",
   "execution_count": 14,
   "metadata": {},
   "outputs": [],
   "source": [
    "@ell.complex(model=\"gpt-4o-mini\", tools=[ sin ], temperature=0.5)\n",
    "def math_assistant(message_history: List[ell.Message]) -> List[ell.Message]:\n",
    "    return [\n",
    "        ell.system(\"You are a helpful assistant that helps with math.\"),\n",
    "    ] + message_history"
   ]
  },
  {
   "cell_type": "code",
   "execution_count": 15,
   "metadata": {},
   "outputs": [],
   "source": [
    "def converse(initial_prompt: str):\n",
    "    conversation = [ ell.user(initial_prompt) ]\n",
    "    response: ell.Message = math_assistant(conversation)\n",
    "    return response.text"
   ]
  },
  {
   "cell_type": "code",
   "execution_count": 16,
   "metadata": {},
   "outputs": [
    {
     "name": "stdout",
     "output_type": "stream",
     "text": [
      "ToolCall(sin(angle=30.0), tool_call_id='call_S9seJh3IgNzOoGfhIH395Oi2')\n"
     ]
    }
   ],
   "source": [
    "if __name__ == '__main__':\n",
    "    print(converse(\"What is sin(30)?\"))"
   ]
  },
  {
   "cell_type": "code",
   "execution_count": 24,
   "metadata": {},
   "outputs": [],
   "source": [
    "def converse(initial_prompt: str):\n",
    "    conversation = [ ell.user(initial_prompt) ]\n",
    "    response: ell.Message = math_assistant(conversation)\n",
    "    max_iterations = 5\n",
    "    # ToolCall 체크를 response.tool_calls만으로 하면 됩니다\n",
    "    while max_iterations > 0 and response.tool_calls:\n",
    "        tool_results = response.call_tools_and_collect_as_message()\n",
    "        conversation = conversation + [response, tool_results]\n",
    "        response = math_assistant(conversation)\n",
    "        max_iterations -= 1\n",
    "\n",
    "    if max_iterations <= 0:\n",
    "        raise Exception(\"Too many iterations, probably stuck in a loop.\")\n",
    "  \n",
    "    return response.text"
   ]
  },
  {
   "cell_type": "code",
   "execution_count": 20,
   "metadata": {},
   "outputs": [
    {
     "name": "stdout",
     "output_type": "stream",
     "text": [
      "The value of sin(30) is 0.5.\n"
     ]
    }
   ],
   "source": [
    "if __name__ == '__main__':\n",
    "    print(converse(\"What is sin(30)?\"))"
   ]
  },
  {
   "cell_type": "code",
   "execution_count": 23,
   "metadata": {},
   "outputs": [
    {
     "name": "stdout",
     "output_type": "stream",
     "text": [
      "First question:  The values are:\n",
      "- \\( \\sin(35^\\circ) \\approx 0.5735764364 \\)\n",
      "- \\( \\sin(51^\\circ) \\approx 0.7771459615 \\)\n",
      "Second question:  The value of \\( \\sin(\\sin(67)) \\) is approximately \\( 0.0160651494 \\).\n"
     ]
    }
   ],
   "source": [
    "if __name__ == '__main__':\n",
    "    print(\"First question: \", converse(\"What is sin(35) and sin(51)?\"))\n",
    "    print(\"Second question: \", converse(\"What is sin(sin(67))?\"))\n",
    "    "
   ]
  },
  {
   "cell_type": "code",
   "execution_count": 28,
   "metadata": {},
   "outputs": [
    {
     "name": "stdout",
     "output_type": "stream",
     "text": [
      "First question:  The sine of sine of sine of 10 degrees is approximately \\( 0.0000528962 \\).\n",
      "Second question:  The sine of sine of sine of sine of sine of sine of 10 degrees is approximately \\( 0.0000009232 \\).\n"
     ]
    }
   ],
   "source": [
    "if __name__ == '__main__':\n",
    "    print(\"First question: \", converse(\"What is sine of sine of sine of 10 degrees?\"))\n",
    "    print(\"Second question: \", converse(\"What is sine of sine of sine of sine of sine of sine of 10 degrees?\"))\n",
    "    "
   ]
  },
  {
   "cell_type": "code",
   "execution_count": 29,
   "metadata": {},
   "outputs": [],
   "source": [
    "def _sin(angle: float) -> float:\n",
    "    return math.sin(math.radians(angle))\n",
    "\n",
    "def _tan(angle: float) -> float:\n",
    "    return math.tan(math.radians(angle))\n",
    "\n",
    "def _number_comparator(a: float, b: float) -> str:\n",
    "    if a > b:\n",
    "        return f\"{a} is larger than {b}, {a} > {b}\"\n",
    "    elif a < b:\n",
    "        return f\"{a} is smaller than {b}, {a} < {b}\"\n",
    "    else:\n",
    "        return f\"{a} is equal to {b}, {a} = {b}\""
   ]
  },
  {
   "cell_type": "code",
   "execution_count": 31,
   "metadata": {},
   "outputs": [],
   "source": [
    "@ell.tool()\n",
    "def number_comparator(a: float = Field(description=\"First number 'a' to compare.\"),\n",
    "                      b: float = Field(description=\"Second number 'b' to compare.\")) -> str:\n",
    "    \"\"\"Returns 'larger' if a > b, 'smaller' if a < b and 'equal' if a = b.\"\"\"\n",
    "    return _number_comparator(a, b)\n",
    "\n",
    "@ell.tool()\n",
    "def tangent(angle: float = Field(description=\"Angle in degrees.\")) -> str:\n",
    "    \"\"\"Returns a value of tan(angle), which is tangent, with up 10 decimal places. For example tan(45) = 1.\"\"\"\n",
    "    value = _tan(angle)\n",
    "    return f\"{value:.10f}\"\n",
    "\n",
    "@ell.tool()\n",
    "def sin(angle: float = Field(description=\"Angle in degrees.\")) -> str:\n",
    "    \"\"\"Returns a value of sin(angle), which is sine, with up 10 decimal places. For example sin(30) = 0.5.\"\"\"\n",
    "    value = _sin(angle)\n",
    "    return f\"{value:.10f}\""
   ]
  },
  {
   "cell_type": "code",
   "execution_count": null,
   "metadata": {},
   "outputs": [],
   "source": []
  },
  {
   "cell_type": "code",
   "execution_count": 32,
   "metadata": {},
   "outputs": [],
   "source": [
    "@ell.complex(model=\"gpt-4o-mini\", tools=[ sin, tangent, number_comparator ], temperature=0.5)\n",
    "def math_assistant(message_history: List[ell.Message]) -> List[ell.Message]:\n",
    "    return [\n",
    "        ell.system(\"You are a helpful assistant that helps with math.\"),\n",
    "    ] + message_history"
   ]
  },
  {
   "cell_type": "code",
   "execution_count": null,
   "metadata": {},
   "outputs": [],
   "source": []
  }
 ],
 "metadata": {
  "kernelspec": {
   "display_name": ".venv",
   "language": "python",
   "name": "python3"
  },
  "language_info": {
   "codemirror_mode": {
    "name": "ipython",
    "version": 3
   },
   "file_extension": ".py",
   "mimetype": "text/x-python",
   "name": "python",
   "nbconvert_exporter": "python",
   "pygments_lexer": "ipython3",
   "version": "3.12.0"
  }
 },
 "nbformat": 4,
 "nbformat_minor": 2
}
