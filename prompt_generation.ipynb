{
 "cells": [
  {
   "cell_type": "markdown",
   "metadata": {},
   "source": [
    "### Setup"
   ]
  },
  {
   "cell_type": "code",
   "execution_count": 1,
   "metadata": {},
   "outputs": [],
   "source": [
    "import os\n",
    "from dotenv import load_dotenv\n",
    "from langchain_openai import ChatOpenAI\n",
    "from langchain.prompts import PromptTemplate\n",
    "\n",
    "# Load environment variables\n",
    "load_dotenv()\n",
    "\n",
    "# Set up OpenAI API key\n",
    "os.environ[\"OPENAI_API_KEY\"] = os.getenv(\"OPENAI_API_KEY\")"
   ]
  },
  {
   "cell_type": "markdown",
   "metadata": {},
   "source": [
    "### Gather information "
   ]
  },
  {
   "cell_type": "markdown",
   "metadata": {},
   "source": [
    "First, let's define the part of the graph that will gather user requirements."
   ]
  },
  {
   "cell_type": "code",
   "execution_count": 2,
   "metadata": {},
   "outputs": [],
   "source": [
    "from typing import List\n",
    "\n",
    "from langchain_core.messages import SystemMessage, AIMessage, HumanMessage, ToolMessage\n",
    "from langchain_openai import ChatOpenAI\n",
    "\n",
    "from pydantic import BaseModel"
   ]
  },
  {
   "cell_type": "code",
   "execution_count": 3,
   "metadata": {},
   "outputs": [],
   "source": [
    "template = \"\"\"Your job is to get information from a user about what type of prompt template they want to create.\n",
    "\n",
    "You should get the following information from them:\n",
    "\n",
    "- What the objective of the prompt is\n",
    "- What variables will be passed into the prompt template\n",
    "- Any constraints for what the output should NOT do\n",
    "- Any requirements that the output MUST adhere to\n",
    "\n",
    "If you are not able to discern this info, ask them to clarify! Do not attempt to wildly guess.\n",
    "\n",
    "After you are able to discern all the information, call the relevant tool.\"\"\""
   ]
  },
  {
   "cell_type": "code",
   "execution_count": 4,
   "metadata": {},
   "outputs": [],
   "source": [
    "def get_messages_info(messages):\n",
    "    return [SystemMessage(content=template)] + messages"
   ]
  },
  {
   "cell_type": "code",
   "execution_count": 6,
   "metadata": {},
   "outputs": [
    {
     "data": {
      "text/plain": [
       "[SystemMessage(content='Your job is to get information from a user about what type of prompt template they want to create.\\n\\nYou should get the following information from them:\\n\\n- What the objective of the prompt is\\n- What variables will be passed into the prompt template\\n- Any constraints for what the output should NOT do\\n- Any requirements that the output MUST adhere to\\n\\nIf you are not able to discern this info, ask them to clarify! Do not attempt to wildly guess.\\n\\nAfter you are able to discern all the information, call the relevant tool.', additional_kwargs={}, response_metadata={}),\n",
       " 'aa',\n",
       " 'bb']"
      ]
     },
     "execution_count": 6,
     "metadata": {},
     "output_type": "execute_result"
    }
   ],
   "source": [
    "get_messages_info([\"aa\", \"bb\"])\n"
   ]
  },
  {
   "cell_type": "code",
   "execution_count": 7,
   "metadata": {},
   "outputs": [],
   "source": [
    "class PromptInstructions(BaseModel):\n",
    "    \"\"\"Instructions on how to prompt the LLM.\"\"\"\n",
    "\n",
    "    objective: str\n",
    "    variables: List[str]\n",
    "    constraints: List[str]\n",
    "    requirements: List[str]"
   ]
  },
  {
   "cell_type": "code",
   "execution_count": 8,
   "metadata": {},
   "outputs": [],
   "source": [
    "llm = ChatOpenAI(model=\"gpt-4o-mini\", temperature=0)\n",
    "llm_with_tool = llm.bind_tools([PromptInstructions])"
   ]
  },
  {
   "cell_type": "code",
   "execution_count": 9,
   "metadata": {},
   "outputs": [],
   "source": [
    "def info_chain(state):\n",
    "    messages = get_messages_info(state[\"messages\"])\n",
    "    response = llm_with_tool.invoke(messages)\n",
    "    return {\"messages\": [response]}\n"
   ]
  },
  {
   "cell_type": "code",
   "execution_count": 10,
   "metadata": {},
   "outputs": [],
   "source": [
    "# info_chain({\"messages\": [HumanMessage(content=\"I want to create a prompt template that generates a list of 100 random numbers between 1 and 1000. The numbers should be unique and sorted in ascending order.\")]})\n"
   ]
  },
  {
   "cell_type": "markdown",
   "metadata": {},
   "source": [
    "### Generate Prompt"
   ]
  },
  {
   "cell_type": "code",
   "execution_count": 11,
   "metadata": {},
   "outputs": [],
   "source": [
    "# New system prompt\n",
    "prompt_system = \"\"\"Based on the following requirements, write a good prompt template:\n",
    "\n",
    "{reqs}\"\"\""
   ]
  },
  {
   "cell_type": "code",
   "execution_count": 12,
   "metadata": {},
   "outputs": [],
   "source": [
    "# Function to get the messages for the prompt\n",
    "# Will only get messages AFTER the tool call\n",
    "def get_prompt_messages(messages: list):\n",
    "    tool_call = None\n",
    "    other_msgs = []\n",
    "    for m in messages:\n",
    "        if isinstance(m, AIMessage) and m.tool_calls:\n",
    "            tool_call = m.tool_calls[0][\"args\"]\n",
    "        elif isinstance(m, ToolMessage):\n",
    "            continue\n",
    "        elif tool_call is not None:\n",
    "            other_msgs.append(m)\n",
    "    return [SystemMessage(content=prompt_system.format(reqs=tool_call))] + other_msgs"
   ]
  },
  {
   "cell_type": "code",
   "execution_count": 13,
   "metadata": {},
   "outputs": [
    {
     "data": {
      "text/plain": [
       "[SystemMessage(content='Based on the following requirements, write a good prompt template:\\n\\nNone', additional_kwargs={}, response_metadata={})]"
      ]
     },
     "execution_count": 13,
     "metadata": {},
     "output_type": "execute_result"
    }
   ],
   "source": [
    "# get_prompt_messages([HumanMessage(content=\"I want to create a prompt template that generates a list of 100 random numbers between 1 and 1000. The numbers should be unique and sorted in ascending order.\"), AIMessage(content=\"Here is the prompt template: {{template}}\")])\n"
   ]
  },
  {
   "cell_type": "code",
   "execution_count": 14,
   "metadata": {},
   "outputs": [],
   "source": [
    "def prompt_gen_chain(state):\n",
    "    messages = get_prompt_messages(state[\"messages\"])\n",
    "    response = llm.invoke(messages)\n",
    "    return {\"messages\": [response]}"
   ]
  },
  {
   "cell_type": "code",
   "execution_count": 15,
   "metadata": {},
   "outputs": [
    {
     "data": {
      "text/plain": [
       "{'messages': [AIMessage(content='**Prompt Template:**\\n\\n---\\n\\n**Title:** [Insert Title Here]\\n\\n**Objective:** [Clearly state the purpose of the prompt. What do you want to achieve?]\\n\\n**Context:** [Provide any necessary background information or context that will help in understanding the prompt. This could include relevant details, specific scenarios, or examples.]\\n\\n**Instructions:** \\n1. [List the specific tasks or questions you want the respondent to address.]\\n2. [Include any guidelines or constraints that should be followed.]\\n3. [Mention the desired format for the response, if applicable (e.g., essay, bullet points, etc.).]\\n\\n**Additional Notes:** \\n- [Include any other relevant information that may assist in crafting a comprehensive response.]\\n- [If applicable, specify any resources or references that can be consulted.]\\n\\n---\\n\\n**Example Usage:**\\n\\n**Title:** The Impact of Climate Change on Coastal Cities\\n\\n**Objective:** To analyze the effects of climate change on urban areas located near coastlines.\\n\\n**Context:** As global temperatures rise, coastal cities face unique challenges such as rising sea levels, increased flooding, and more severe weather events. Understanding these impacts is crucial for urban planning and disaster preparedness.\\n\\n**Instructions:** \\n1. Discuss at least three major impacts of climate change on coastal cities.\\n2. Provide examples of specific cities that are currently facing these challenges.\\n3. Suggest potential strategies for mitigation and adaptation.\\n\\n**Additional Notes:** \\n- Consider both short-term and long-term effects.\\n- Responses should be in essay format, approximately 500 words.\\n\\n--- \\n\\nFeel free to customize the template as needed for your specific requirements!', additional_kwargs={'refusal': None}, response_metadata={'token_usage': {'completion_tokens': 322, 'prompt_tokens': 20, 'total_tokens': 342, 'completion_tokens_details': {'accepted_prediction_tokens': 0, 'audio_tokens': 0, 'reasoning_tokens': 0, 'rejected_prediction_tokens': 0}, 'prompt_tokens_details': {'audio_tokens': 0, 'cached_tokens': 0}}, 'model_name': 'gpt-4o-mini-2024-07-18', 'system_fingerprint': 'fp_d02d531b47', 'finish_reason': 'stop', 'logprobs': None}, id='run-6671c767-08b9-46ef-9f4a-6e34c346b221-0', usage_metadata={'input_tokens': 20, 'output_tokens': 322, 'total_tokens': 342, 'input_token_details': {'audio': 0, 'cache_read': 0}, 'output_token_details': {'audio': 0, 'reasoning': 0}})]}"
      ]
     },
     "execution_count": 15,
     "metadata": {},
     "output_type": "execute_result"
    }
   ],
   "source": [
    "prompt_gen_chain({\"messages\": [HumanMessage(content=\"I want to create a prompt template that generates a list of 100 random numbers between 1 and 1000. The numbers should be unique and sorted in ascending order.\"), AIMessage(content=\"Here is the prompt template: {{template}}\")]})\n"
   ]
  },
  {
   "cell_type": "markdown",
   "metadata": {},
   "source": [
    "### Define the state logic"
   ]
  },
  {
   "cell_type": "code",
   "execution_count": 16,
   "metadata": {},
   "outputs": [],
   "source": [
    "from typing import Literal\n",
    "\n",
    "from langgraph.graph import END\n"
   ]
  },
  {
   "cell_type": "code",
   "execution_count": 17,
   "metadata": {},
   "outputs": [],
   "source": [
    "def get_state(state):\n",
    "    messages = state[\"messages\"]\n",
    "    if isinstance(messages[-1], AIMessage) and messages[-1].tool_calls:\n",
    "        return \"add_tool_message\"\n",
    "    elif not isinstance(messages[-1], HumanMessage):\n",
    "        return END\n",
    "    return \"info\""
   ]
  },
  {
   "cell_type": "code",
   "execution_count": 18,
   "metadata": {},
   "outputs": [],
   "source": [
    "from langgraph.checkpoint.memory import MemorySaver\n",
    "from langgraph.graph import StateGraph, START\n",
    "from langgraph.graph.message import add_messages\n",
    "from typing import Annotated\n",
    "from typing_extensions import TypedDict"
   ]
  },
  {
   "cell_type": "code",
   "execution_count": 19,
   "metadata": {},
   "outputs": [],
   "source": [
    "class State(TypedDict):\n",
    "    messages: Annotated[list, add_messages]"
   ]
  },
  {
   "cell_type": "code",
   "execution_count": 20,
   "metadata": {},
   "outputs": [
    {
     "data": {
      "text/plain": [
       "<langgraph.graph.state.StateGraph at 0x20b49aa6b10>"
      ]
     },
     "execution_count": 20,
     "metadata": {},
     "output_type": "execute_result"
    }
   ],
   "source": [
    "memory = MemorySaver()\n",
    "workflow = StateGraph(State)\n",
    "workflow.add_node(\"info\", info_chain)\n",
    "workflow.add_node(\"prompt\", prompt_gen_chain)"
   ]
  },
  {
   "cell_type": "code",
   "execution_count": 21,
   "metadata": {},
   "outputs": [],
   "source": [
    "@workflow.add_node\n",
    "def add_tool_message(state: State):\n",
    "    return {\n",
    "        \"messages\": [\n",
    "            ToolMessage(\n",
    "                content=\"Prompt generated!\",\n",
    "                tool_call_id=state[\"messages\"][-1].tool_calls[0][\"id\"],\n",
    "            )\n",
    "        ]\n",
    "    }"
   ]
  },
  {
   "cell_type": "code",
   "execution_count": 23,
   "metadata": {},
   "outputs": [
    {
     "name": "stderr",
     "output_type": "stream",
     "text": [
      "Adding an edge to a graph that has already been compiled. This will not be reflected in the compiled graph.\n"
     ]
    },
    {
     "ename": "ValueError",
     "evalue": "Branch with name `get_state` already exists for node `info`",
     "output_type": "error",
     "traceback": [
      "\u001b[1;31m---------------------------------------------------------------------------\u001b[0m",
      "\u001b[1;31mValueError\u001b[0m                                Traceback (most recent call last)",
      "Cell \u001b[1;32mIn[23], line 1\u001b[0m\n\u001b[1;32m----> 1\u001b[0m \u001b[43mworkflow\u001b[49m\u001b[38;5;241;43m.\u001b[39;49m\u001b[43madd_conditional_edges\u001b[49m\u001b[43m(\u001b[49m\u001b[38;5;124;43m\"\u001b[39;49m\u001b[38;5;124;43minfo\u001b[39;49m\u001b[38;5;124;43m\"\u001b[39;49m\u001b[43m,\u001b[49m\u001b[43m \u001b[49m\u001b[43mget_state\u001b[49m\u001b[43m,\u001b[49m\u001b[43m \u001b[49m\u001b[43m[\u001b[49m\u001b[38;5;124;43m\"\u001b[39;49m\u001b[38;5;124;43madd_tool_message\u001b[39;49m\u001b[38;5;124;43m\"\u001b[39;49m\u001b[43m,\u001b[49m\u001b[43m \u001b[49m\u001b[38;5;124;43m\"\u001b[39;49m\u001b[38;5;124;43minfo\u001b[39;49m\u001b[38;5;124;43m\"\u001b[39;49m\u001b[43m,\u001b[49m\u001b[43m \u001b[49m\u001b[43mEND\u001b[49m\u001b[43m]\u001b[49m\u001b[43m)\u001b[49m \u001b[38;5;66;03m# start from info, then by the condition in get_state, go to add_tool_message or info or END\u001b[39;00m\n\u001b[0;32m      2\u001b[0m workflow\u001b[38;5;241m.\u001b[39madd_edge(\u001b[38;5;124m\"\u001b[39m\u001b[38;5;124madd_tool_message\u001b[39m\u001b[38;5;124m\"\u001b[39m, \u001b[38;5;124m\"\u001b[39m\u001b[38;5;124mprompt\u001b[39m\u001b[38;5;124m\"\u001b[39m)\n\u001b[0;32m      3\u001b[0m workflow\u001b[38;5;241m.\u001b[39madd_edge(\u001b[38;5;124m\"\u001b[39m\u001b[38;5;124mprompt\u001b[39m\u001b[38;5;124m\"\u001b[39m, END)\n",
      "File \u001b[1;32mc:\\Users\\DNSOFT\\test_notebooks_\\.venv\\Lib\\site-packages\\langgraph\\graph\\graph.py:295\u001b[0m, in \u001b[0;36mGraph.add_conditional_edges\u001b[1;34m(self, source, path, path_map, then)\u001b[0m\n\u001b[0;32m    293\u001b[0m \u001b[38;5;66;03m# validate the condition\u001b[39;00m\n\u001b[0;32m    294\u001b[0m \u001b[38;5;28;01mif\u001b[39;00m name \u001b[38;5;129;01min\u001b[39;00m \u001b[38;5;28mself\u001b[39m\u001b[38;5;241m.\u001b[39mbranches[source]:\n\u001b[1;32m--> 295\u001b[0m     \u001b[38;5;28;01mraise\u001b[39;00m \u001b[38;5;167;01mValueError\u001b[39;00m(\n\u001b[0;32m    296\u001b[0m         \u001b[38;5;124mf\u001b[39m\u001b[38;5;124m\"\u001b[39m\u001b[38;5;124mBranch with name `\u001b[39m\u001b[38;5;132;01m{\u001b[39;00mpath\u001b[38;5;241m.\u001b[39mname\u001b[38;5;132;01m}\u001b[39;00m\u001b[38;5;124m` already exists for node \u001b[39m\u001b[38;5;124m\"\u001b[39m \u001b[38;5;124mf\u001b[39m\u001b[38;5;124m\"\u001b[39m\u001b[38;5;124m`\u001b[39m\u001b[38;5;132;01m{\u001b[39;00msource\u001b[38;5;132;01m}\u001b[39;00m\u001b[38;5;124m`\u001b[39m\u001b[38;5;124m\"\u001b[39m\n\u001b[0;32m    297\u001b[0m     )\n\u001b[0;32m    298\u001b[0m \u001b[38;5;66;03m# save it\u001b[39;00m\n\u001b[0;32m    299\u001b[0m \u001b[38;5;28mself\u001b[39m\u001b[38;5;241m.\u001b[39mbranches[source][name] \u001b[38;5;241m=\u001b[39m Branch(path, path_map_, then)\n",
      "\u001b[1;31mValueError\u001b[0m: Branch with name `get_state` already exists for node `info`"
     ]
    }
   ],
   "source": [
    "workflow.add_conditional_edges(\"info\", get_state, [\"add_tool_message\", \"info\", END]) # start from info, then by the condition in get_state, go to add_tool_message or info or END\n",
    "workflow.add_edge(\"add_tool_message\", \"prompt\")\n",
    "workflow.add_edge(\"prompt\", END)\n",
    "workflow.add_edge(START, \"info\")\n",
    "graph = workflow.compile(checkpointer=memory)\n"
   ]
  },
  {
   "cell_type": "code",
   "execution_count": 24,
   "metadata": {},
   "outputs": [
    {
     "data": {
      "image/png": "[encoded data removed]",
      "text/plain": [
       "<IPython.core.display.Image object>"
      ]
     },
     "metadata": {},
     "output_type": "display_data"
    }
   ],
   "source": [
    "from IPython.display import Image, display\n",
    "\n",
    "display(Image(graph.get_graph().draw_mermaid_png()))\n"
   ]
  },
  {
   "cell_type": "markdown",
   "metadata": {},
   "source": [
    "### Use the graph"
   ]
  },
  {
   "cell_type": "code",
   "execution_count": 26,
   "metadata": {},
   "outputs": [
    {
     "name": "stdout",
     "output_type": "stream",
     "text": [
      "User (q/Q to quit): rag ??\n",
      "==================================\u001b[1m Ai Message \u001b[0m==================================\n",
      "\n",
      "Could you please clarify what you mean by \"rag\"? Are you looking to create a prompt template related to a specific topic or task? If so, please provide more details about the objective, variables, constraints, and requirements for the prompt.\n",
      "User (q/Q to quit): math game\n",
      "==================================\u001b[1m Ai Message \u001b[0m==================================\n",
      "\n",
      "Great! To help you create a prompt template for a math game, I need a bit more information:\n",
      "\n",
      "1. **What is the objective of the prompt?** (e.g., to generate math problems, to provide hints, etc.)\n",
      "2. **What variables will be passed into the prompt template?** (e.g., difficulty level, type of math operation, number of questions, etc.)\n",
      "3. **Are there any constraints for what the output should NOT do?** (e.g., avoid using certain types of problems, no negative numbers, etc.)\n",
      "4. **What requirements must the output adhere to?** (e.g., must be age-appropriate, must include explanations, etc.)\n",
      "\n",
      "Once I have this information, I can help you create the prompt template!\n",
      "User (q/Q to quit): to generate math problems\n",
      "==================================\u001b[1m Ai Message \u001b[0m==================================\n",
      "\n",
      "Thank you for the objective! Now, could you please provide the following additional details:\n",
      "\n",
      "1. **What variables will be passed into the prompt template?** (e.g., difficulty level, type of math operation, number of questions, etc.)\n",
      "2. **Are there any constraints for what the output should NOT do?** (e.g., avoid using certain types of problems, no negative numbers, etc.)\n",
      "3. **What requirements must the output adhere to?** (e.g., must be age-appropriate, must include explanations, etc.)\n",
      "\n",
      "This information will help me create a more tailored prompt template for your math game.\n",
      "User (q/Q to quit): difficulty level, type of math operation\n",
      "==================================\u001b[1m Ai Message \u001b[0m==================================\n",
      "\n",
      "Great! So far, we have:\n",
      "\n",
      "- **Objective:** To generate math problems\n",
      "- **Variables:** Difficulty level, type of math operation\n",
      "\n",
      "Now, could you please provide the remaining details:\n",
      "\n",
      "1. **Are there any constraints for what the output should NOT do?** (e.g., avoid using certain types of problems, no negative numbers, etc.)\n",
      "2. **What requirements must the output adhere to?** (e.g., must be age-appropriate, must include explanations, etc.)\n",
      "\n",
      "Once I have this information, I can finalize the prompt template for you!\n",
      "User (q/Q to quit): no negative numbers\n",
      "==================================\u001b[1m Ai Message \u001b[0m==================================\n",
      "\n",
      "Thank you! Here’s what we have so far:\n",
      "\n",
      "- **Objective:** To generate math problems\n",
      "- **Variables:** Difficulty level, type of math operation\n",
      "- **Constraints:** No negative numbers\n",
      "\n",
      "Now, could you please provide the last detail:\n",
      "\n",
      "1. **What requirements must the output adhere to?** (e.g., must be age-appropriate, must include explanations, etc.)\n",
      "\n",
      "Once I have this information, I can create the prompt template for you!\n",
      "User (q/Q to quit): must include explanations\n",
      "==================================\u001b[1m Ai Message \u001b[0m==================================\n",
      "\n",
      "Thank you for the information! Here’s a summary of what we have for the prompt template:\n",
      "\n",
      "- **Objective:** To generate math problems\n",
      "- **Variables:** Difficulty level, type of math operation\n",
      "- **Constraints:** No negative numbers\n",
      "- **Requirements:** Must include explanations\n",
      "\n",
      "I will now create the prompt template based on this information.\n",
      "Tool Calls:\n",
      "  PromptInstructions (call_pe2FCmSacBxJgvBVI8hmzd4h)\n",
      " Call ID: call_pe2FCmSacBxJgvBVI8hmzd4h\n",
      "  Args:\n",
      "    objective: To generate math problems\n",
      "    variables: ['difficulty level', 'type of math operation']\n",
      "    constraints: ['no negative numbers']\n",
      "    requirements: ['must include explanations']\n",
      "=================================\u001b[1m Tool Message \u001b[0m=================================\n",
      "\n",
      "Prompt generated!\n",
      "==================================\u001b[1m Ai Message \u001b[0m==================================\n",
      "\n",
      "**Prompt Template:**\n",
      "\n",
      "\"Generate a set of math problems based on the following criteria: \n",
      "\n",
      "- **Objective:** Create math problems that align with the specified difficulty level and type of math operation.\n",
      "- **Variables:** \n",
      "  - Difficulty Level: [insert difficulty level, e.g., easy, medium, hard]\n",
      "  - Type of Math Operation: [insert type of operation, e.g., addition, subtraction, multiplication, division]\n",
      "- **Constraints:** Ensure that all numbers used in the problems are non-negative.\n",
      "- **Requirements:** Each problem must be accompanied by a clear and detailed explanation of the solution process.\n",
      "\n",
      "Please provide [insert number of problems] problems that meet these criteria.\"\n",
      "Done!\n",
      "User (q/Q to quit): q\n",
      "AI: Byebye\n"
     ]
    }
   ],
   "source": [
    "import uuid\n",
    "\n",
    "cached_human_responses = [\"hi!\", \"rag prompt\", \"1 rag, 2 none, 3 no, 4 no\", \"red\", \"q\"]\n",
    "cached_response_index = 0\n",
    "config = {\"configurable\": {\"thread_id\": str(uuid.uuid4())}}\n",
    "while True:\n",
    "    try:\n",
    "        user = input(\"User (q/Q to quit): \")\n",
    "    except:\n",
    "        user = cached_human_responses[cached_response_index] # if user input is not valid, use the cached_human_responses\n",
    "        cached_response_index += 1\n",
    "    print(f\"User (q/Q to quit): {user}\")\n",
    "    if user in {\"q\", \"Q\"}:\n",
    "        print(\"AI: Byebye\")\n",
    "        break\n",
    "    output = None\n",
    "    for output in graph.stream(\n",
    "        {\"messages\": [HumanMessage(content=user)]}, config=config, stream_mode=\"updates\"\n",
    "    ):\n",
    "        last_message = next(iter(output.values()))[\"messages\"][-1]\n",
    "        last_message.pretty_print()\n",
    "\n",
    "    if output and \"prompt\" in output:\n",
    "        print(\"Done!\")"
   ]
  },
  {
   "cell_type": "code",
   "execution_count": null,
   "metadata": {},
   "outputs": [],
   "source": []
  }
 ],
 "metadata": {
  "kernelspec": {
   "display_name": ".venv",
   "language": "python",
   "name": "python3"
  },
  "language_info": {
   "codemirror_mode": {
    "name": "ipython",
    "version": 3
   },
   "file_extension": ".py",
   "mimetype": "text/x-python",
   "name": "python",
   "nbconvert_exporter": "python",
   "pygments_lexer": "ipython3",
   "version": "3.12.0"
  }
 },
 "nbformat": 4,
 "nbformat_minor": 2
}
