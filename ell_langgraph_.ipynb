{
 "cells": [
  {
   "cell_type": "code",
   "execution_count": 2,
   "metadata": {},
   "outputs": [],
   "source": [
    "import os\n",
    "from dotenv import load_dotenv\n",
    "from langchain_openai import ChatOpenAI\n",
    "from langchain.prompts import PromptTemplate\n",
    "\n",
    "# Load environment variables\n",
    "load_dotenv()\n",
    "# Set up OpenAI API key\n",
    "os.environ[\"OPENAI_API_KEY\"] = os.getenv(\"OPENAI_API_KEY\")\n",
    "os.environ[\"ANTHROPIC_API_KEY\"] = os.getenv(\"ANTHROPIC_API_KEY\")"
   ]
  },
  {
   "cell_type": "markdown",
   "metadata": {},
   "source": [
    "## Setting"
   ]
  },
  {
   "cell_type": "code",
   "execution_count": 3,
   "metadata": {},
   "outputs": [],
   "source": [
    "import ell\n",
    "ell.init(store='./log_langgraph_', autocommit=True)"
   ]
  },
  {
   "cell_type": "markdown",
   "metadata": {},
   "source": [
    "## Tools"
   ]
  },
  {
   "cell_type": "code",
   "execution_count": 4,
   "metadata": {},
   "outputs": [],
   "source": [
    "from langchain_community.tools import DuckDuckGoSearchRun\n"
   ]
  },
  {
   "cell_type": "code",
   "execution_count": 5,
   "metadata": {},
   "outputs": [],
   "source": [
    "import math\n",
    "from pydantic import Field"
   ]
  },
  {
   "cell_type": "code",
   "execution_count": 6,
   "metadata": {},
   "outputs": [],
   "source": [
    "from typing import List\n"
   ]
  },
  {
   "cell_type": "code",
   "execution_count": 7,
   "metadata": {},
   "outputs": [],
   "source": [
    "@ell.tool()\n",
    "def search(query: str = Field(description=\"Search query to look up information.\")) -> str:\n",
    "    \"\"\"Searches the internet for the given query and returns relevant information.\"\"\"\n",
    "    search_tool = DuckDuckGoSearchRun()\n",
    "    return search_tool.run(query)"
   ]
  },
  {
   "cell_type": "code",
   "execution_count": 8,
   "metadata": {},
   "outputs": [],
   "source": [
    "@ell.tool()\n",
    "def python_repl(code: str = Field(description=\"Python code to execute in the REPL.\")) -> str:\n",
    "    \"\"\"Execute Python code and return the output. Can import and use packages that are installed in the environment.\"\"\"\n",
    "    try:\n",
    "        # Create a string buffer to capture output\n",
    "        import sys\n",
    "        from io import StringIO\n",
    "        old_stdout = sys.stdout\n",
    "        redirected_output = StringIO()\n",
    "        sys.stdout = redirected_output\n",
    "\n",
    "        # Execute the code\n",
    "        exec_globals = {}\n",
    "        exec(code, exec_globals)\n",
    "        \n",
    "        # Get the output\n",
    "        sys.stdout = old_stdout\n",
    "        output = redirected_output.getvalue()\n",
    "        \n",
    "        # If there's no stdout output, try to get the last expression value\n",
    "        if not output.strip():\n",
    "            last_line = code.strip().split('\\n')[-1]\n",
    "            try:\n",
    "                result = eval(last_line, exec_globals)\n",
    "                output = str(result)\n",
    "            except:\n",
    "                pass\n",
    "        \n",
    "        return output if output.strip() else \"Code executed successfully with no output.\"\n",
    "    \n",
    "    except Exception as e:\n",
    "        return f\"Error: {str(e)}\""
   ]
  },
  {
   "cell_type": "code",
   "execution_count": null,
   "metadata": {},
   "outputs": [],
   "source": []
  }
 ],
 "metadata": {
  "kernelspec": {
   "display_name": ".venv",
   "language": "python",
   "name": "python3"
  },
  "language_info": {
   "codemirror_mode": {
    "name": "ipython",
    "version": 3
   },
   "file_extension": ".py",
   "mimetype": "text/x-python",
   "name": "python",
   "nbconvert_exporter": "python",
   "pygments_lexer": "ipython3",
   "version": "3.12.0"
  }
 },
 "nbformat": 4,
 "nbformat_minor": 2
}
