{
 "cells": [
  {
   "cell_type": "code",
   "execution_count": 7,
   "metadata": {},
   "outputs": [],
   "source": [
    "import os\n",
    "from dotenv import load_dotenv\n",
    "from langchain_openai import ChatOpenAI\n",
    "from langchain.prompts import PromptTemplate\n",
    "\n",
    "# Load environment variables\n",
    "load_dotenv()\n",
    "# Set up OpenAI API key\n",
    "os.environ[\"OPENAI_API_KEY\"] = os.getenv(\"OPENAI_API_KEY\")\n",
    "os.environ[\"ANTHROPIC_API_KEY\"] = os.getenv(\"ANTHROPIC_API_KEY\")\n"
   ]
  },
  {
   "cell_type": "code",
   "execution_count": 8,
   "metadata": {},
   "outputs": [],
   "source": [
    "import ell\n",
    "ell.init(store='./log', autocommit=True)"
   ]
  },
  {
   "cell_type": "markdown",
   "metadata": {},
   "source": [
    "## Defining tools for agents"
   ]
  },
  {
   "cell_type": "code",
   "execution_count": 9,
   "metadata": {},
   "outputs": [],
   "source": [
    "from langchain_community.tools import DuckDuckGoSearchRun\n"
   ]
  },
  {
   "cell_type": "code",
   "execution_count": 10,
   "metadata": {},
   "outputs": [],
   "source": [
    "import math\n",
    "from pydantic import Field"
   ]
  },
  {
   "cell_type": "code",
   "execution_count": 11,
   "metadata": {},
   "outputs": [],
   "source": [
    "@ell.tool()\n",
    "def search(query: str = Field(description=\"Search query to look up information.\")) -> str:\n",
    "    \"\"\"Searches the internet for the given query and returns relevant information.\"\"\"\n",
    "    search_tool = DuckDuckGoSearchRun()\n",
    "    return search_tool.run(query)"
   ]
  },
  {
   "cell_type": "code",
   "execution_count": 22,
   "metadata": {},
   "outputs": [],
   "source": [
    "@ell.tool()\n",
    "def python_repl(code: str = Field(description=\"Python code to execute in the REPL.\")) -> str:\n",
    "    \"\"\"Execute Python code and return the output. Can import and use packages that are installed in the environment.\"\"\"\n",
    "    try:\n",
    "        # Create a string buffer to capture output\n",
    "        import sys\n",
    "        from io import StringIO\n",
    "        old_stdout = sys.stdout\n",
    "        redirected_output = StringIO()\n",
    "        sys.stdout = redirected_output\n",
    "\n",
    "        # Execute the code\n",
    "        exec_globals = {}\n",
    "        exec(code, exec_globals)\n",
    "        \n",
    "        # Get the output\n",
    "        sys.stdout = old_stdout\n",
    "        output = redirected_output.getvalue()\n",
    "        \n",
    "        # If there's no stdout output, try to get the last expression value\n",
    "        if not output.strip():\n",
    "            last_line = code.strip().split('\\n')[-1]\n",
    "            try:\n",
    "                result = eval(last_line, exec_globals)\n",
    "                output = str(result)\n",
    "            except:\n",
    "                pass\n",
    "        \n",
    "        return output if output.strip() else \"Code executed successfully with no output.\"\n",
    "    \n",
    "    except Exception as e:\n",
    "        return f\"Error: {str(e)}\""
   ]
  },
  {
   "cell_type": "code",
   "execution_count": 13,
   "metadata": {},
   "outputs": [],
   "source": [
    "from typing import List\n"
   ]
  },
  {
   "cell_type": "code",
   "execution_count": 14,
   "metadata": {},
   "outputs": [],
   "source": [
    "@ell.complex(model=\"gpt-4o-mini\", tools=[ search ], temperature=0.5)\n",
    "def search_assistant(message_history: List[ell.Message]) -> List[ell.Message]:\n",
    "    return [\n",
    "        ell.system(\"You are a helpful assistant that helps with searching the internet.\"),\n",
    "    ] + message_history"
   ]
  },
  {
   "cell_type": "code",
   "execution_count": 29,
   "metadata": {},
   "outputs": [],
   "source": [
    "@ell.complex(model=\"gpt-4o-mini\", tools=[ python_repl ], temperature=0)\n",
    "def python_assistant(message_history: List[ell.Message]) -> List[ell.Message]:\n",
    "    return [\n",
    "        ell.system(\"You are a helpful assistant that helps with python code execution.\"),\n",
    "    ] + message_history"
   ]
  },
  {
   "cell_type": "code",
   "execution_count": 30,
   "metadata": {},
   "outputs": [],
   "source": [
    "def converse(initial_prompt: str):\n",
    "    conversation = [ ell.user(initial_prompt) ]\n",
    "    response: ell.Message = search_assistant(conversation)\n",
    "    max_iterations = 5\n",
    "    # ToolCall 체크를 response.tool_calls만으로 하면 됩니다\n",
    "    while max_iterations > 0 and response.tool_calls:\n",
    "        tool_results = response.call_tools_and_collect_as_message()\n",
    "        conversation = conversation + [response, tool_results]\n",
    "        response = search_assistant(conversation)\n",
    "        max_iterations -= 1\n",
    "\n",
    "    if max_iterations <= 0:\n",
    "        raise Exception(\"Too many iterations, probably stuck in a loop.\")\n",
    "  \n",
    "    return response.text"
   ]
  },
  {
   "cell_type": "code",
   "execution_count": 31,
   "metadata": {},
   "outputs": [],
   "source": [
    "from typing import TypedDict, Annotated, Sequence, Literal\n",
    "from typing_extensions import TypedDict"
   ]
  },
  {
   "cell_type": "code",
   "execution_count": 32,
   "metadata": {},
   "outputs": [],
   "source": [
    "class ConversationState(TypedDict):\n",
    "    messages: List[ell.Message]\n",
    "    iteration_count: int\n",
    "    current_response: ell.Message | None\n",
    "    assistant_type: Literal['search', 'python']  # 현재 사용 중인 assistant 타입\n",
    "\n",
    "def should_continue(state: ConversationState) -> bool:\n",
    "    \"\"\"다음 단계로 진행해야 하는지 확인\"\"\"\n",
    "    return (state['iteration_count'] < 5 and \n",
    "            state['current_response'] is not None and \n",
    "            state['current_response'].tool_calls)\n",
    "\n",
    "def execute_assistant(state: ConversationState) -> ConversationState:\n",
    "    \"\"\"현재 assistant type에 따라 적절한 assistant 실행\"\"\"\n",
    "    if state['assistant_type'] == 'search':\n",
    "        response = search_assistant(state['messages'])\n",
    "    else:  # python\n",
    "        response = python_assistant(state['messages'])\n",
    "    \n",
    "    return {\n",
    "        **state,\n",
    "        'current_response': response\n",
    "    }\n",
    "\n",
    "def process_tool_calls(state: ConversationState) -> ConversationState:\n",
    "    \"\"\"도구 호출 처리 및 상태 업데이트\"\"\"\n",
    "    tool_results = state['current_response'].call_tools_and_collect_as_message()\n",
    "    new_messages = state['messages'] + [state['current_response'], tool_results]\n",
    "    \n",
    "    # 검색 후 Python 처리로 전환\n",
    "    new_assistant_type = 'python' if state['assistant_type'] == 'search' else 'search'\n",
    "    \n",
    "    return {\n",
    "        'messages': new_messages,\n",
    "        'iteration_count': state['iteration_count'] + 1,\n",
    "        'current_response': None,\n",
    "        'assistant_type': new_assistant_type\n",
    "    }\n",
    "\n",
    "def converse(initial_prompt: str) -> str:\n",
    "    # 초기 상태 설정\n",
    "    state: ConversationState = {\n",
    "        'messages': [ell.user(initial_prompt)],\n",
    "        'iteration_count': 0,\n",
    "        'current_response': None,\n",
    "        'assistant_type': 'search'  # 검색부터 시작\n",
    "    }\n",
    "    \n",
    "    # 상태 기계 실행\n",
    "    while True:\n",
    "        # assistant 실행\n",
    "        state = execute_assistant(state)\n",
    "        \n",
    "        # 계속 진행해야 하는지 확인\n",
    "        if not should_continue(state):\n",
    "            break\n",
    "            \n",
    "        # 도구 호출 처리\n",
    "        state = process_tool_calls(state)\n",
    "    \n",
    "    if state['iteration_count'] >= 5:\n",
    "        raise Exception(\"Too many iterations, probably stuck in a loop.\")\n",
    "        \n",
    "    return state['current_response'].text"
   ]
  },
  {
   "cell_type": "code",
   "execution_count": 34,
   "metadata": {},
   "outputs": [
    {
     "name": "stdout",
     "output_type": "stream",
     "text": [
      "Here are the names of flutes that can call ravens, displayed in a pandas DataFrame:\n",
      "\n",
      "|    | Flute Name                          |\n",
      "|----|-------------------------------------|\n",
      "| 0  | White Narra Raven Flute             |\n",
      "| 1  | Red Narra Feather Flute             |\n",
      "| 2  | F sharp block flute from Raven Wing |\n"
     ]
    }
   ],
   "source": [
    "if __name__ == '__main__':\n",
    "    print(converse(\"What is flute that can calls ravens? Find the names of flutes then show that in pandas df.\"))"
   ]
  },
  {
   "cell_type": "code",
   "execution_count": 23,
   "metadata": {},
   "outputs": [
    {
     "name": "stdout",
     "output_type": "stream",
     "text": [
      "First question:  The values are:\n",
      "- \\( \\sin(35^\\circ) \\approx 0.5735764364 \\)\n",
      "- \\( \\sin(51^\\circ) \\approx 0.7771459615 \\)\n",
      "Second question:  The value of \\( \\sin(\\sin(67)) \\) is approximately \\( 0.0160651494 \\).\n"
     ]
    }
   ],
   "source": [
    "if __name__ == '__main__':\n",
    "    print(\"First question: \", converse(\"What is sin(35) and sin(51)?\"))\n",
    "    print(\"Second question: \", converse(\"What is sin(sin(67))?\"))\n",
    "    "
   ]
  },
  {
   "cell_type": "code",
   "execution_count": 28,
   "metadata": {},
   "outputs": [
    {
     "name": "stdout",
     "output_type": "stream",
     "text": [
      "First question:  The sine of sine of sine of 10 degrees is approximately \\( 0.0000528962 \\).\n",
      "Second question:  The sine of sine of sine of sine of sine of sine of 10 degrees is approximately \\( 0.0000009232 \\).\n"
     ]
    }
   ],
   "source": [
    "if __name__ == '__main__':\n",
    "    print(\"First question: \", converse(\"What is sine of sine of sine of 10 degrees?\"))\n",
    "    print(\"Second question: \", converse(\"What is sine of sine of sine of sine of sine of sine of 10 degrees?\"))\n",
    "    "
   ]
  },
  {
   "cell_type": "code",
   "execution_count": 29,
   "metadata": {},
   "outputs": [],
   "source": [
    "def _sin(angle: float) -> float:\n",
    "    return math.sin(math.radians(angle))\n",
    "\n",
    "def _tan(angle: float) -> float:\n",
    "    return math.tan(math.radians(angle))\n",
    "\n",
    "def _number_comparator(a: float, b: float) -> str:\n",
    "    if a > b:\n",
    "        return f\"{a} is larger than {b}, {a} > {b}\"\n",
    "    elif a < b:\n",
    "        return f\"{a} is smaller than {b}, {a} < {b}\"\n",
    "    else:\n",
    "        return f\"{a} is equal to {b}, {a} = {b}\""
   ]
  },
  {
   "cell_type": "code",
   "execution_count": 31,
   "metadata": {},
   "outputs": [],
   "source": [
    "@ell.tool()\n",
    "def number_comparator(a: float = Field(description=\"First number 'a' to compare.\"),\n",
    "                      b: float = Field(description=\"Second number 'b' to compare.\")) -> str:\n",
    "    \"\"\"Returns 'larger' if a > b, 'smaller' if a < b and 'equal' if a = b.\"\"\"\n",
    "    return _number_comparator(a, b)\n",
    "\n",
    "@ell.tool()\n",
    "def tangent(angle: float = Field(description=\"Angle in degrees.\")) -> str:\n",
    "    \"\"\"Returns a value of tan(angle), which is tangent, with up 10 decimal places. For example tan(45) = 1.\"\"\"\n",
    "    value = _tan(angle)\n",
    "    return f\"{value:.10f}\"\n",
    "\n",
    "@ell.tool()\n",
    "def sin(angle: float = Field(description=\"Angle in degrees.\")) -> str:\n",
    "    \"\"\"Returns a value of sin(angle), which is sine, with up 10 decimal places. For example sin(30) = 0.5.\"\"\"\n",
    "    value = _sin(angle)\n",
    "    return f\"{value:.10f}\""
   ]
  },
  {
   "cell_type": "code",
   "execution_count": null,
   "metadata": {},
   "outputs": [],
   "source": []
  },
  {
   "cell_type": "code",
   "execution_count": 32,
   "metadata": {},
   "outputs": [],
   "source": [
    "@ell.complex(model=\"gpt-4o-mini\", tools=[ sin, tangent, number_comparator ], temperature=0.5)\n",
    "def math_assistant(message_history: List[ell.Message]) -> List[ell.Message]:\n",
    "    return [\n",
    "        ell.system(\"You are a helpful assistant that helps with math.\"),\n",
    "    ] + message_history"
   ]
  },
  {
   "cell_type": "code",
   "execution_count": 34,
   "metadata": {},
   "outputs": [],
   "source": [
    "TESTS = [\n",
    "    {\n",
    "        'prompt': \"Is 0.5 larger than 0.4?\",\n",
    "        'expected': f\"{_number_comparator(0.5, 0.4)}\"\n",
    "    },\n",
    "    {\n",
    "        'prompt': \"What is sin(3910)?\",\n",
    "        'expected': f\"sin(3910) = {_sin(3910):.10f}\"\n",
    "    },\n",
    "    {\n",
    "        'prompt': \"What is tan(4455)?\",\n",
    "        'expected': f\"tan(4455) = {_tan(4455):.10f}\"\n",
    "    },\n",
    "    {\n",
    "        'prompt': \"What is larger sin(sin(789)) or tan(9999)?\",\n",
    "        'expected': f\"sin(sin(789)) = {_sin(_sin(789)):.10f}, tan(9999) = {_tan(9999):.10f}, {_number_comparator(_sin(_sin(789)), _tan(9999))}\"\n",
    "    },\n",
    "    {\n",
    "        'prompt': \"What is the value of sin(tan(8910))?\",\n",
    "        'expected': f\"sin(tan(8910)) = {_sin(_tan(8910)):.10f}\"\n",
    "    },\n",
    "    {\n",
    "        'prompt': \"Is sin(8.333) larger than tan(5.45)?\",\n",
    "        'expected': f\"{_number_comparator(_sin(8.333), _tan(5.45))}\"\n",
    "    }\n",
    "]"
   ]
  },
  {
   "cell_type": "code",
   "execution_count": 35,
   "metadata": {},
   "outputs": [
    {
     "name": "stdout",
     "output_type": "stream",
     "text": [
      "❓ Prompt: Is 0.5 larger than 0.4?\n",
      "👍 Expected: 0.5 is larger than 0.4, 0.5 > 0.4\n",
      "🤖 Model: Yes, 0.5 is larger than 0.4.\n",
      "\n",
      "❓ Prompt: What is sin(3910)?\n",
      "👍 Expected: sin(3910) = -0.7660444431\n",
      "🤖 Model: The value of sin(3910) is approximately -0.7660444431.\n",
      "\n",
      "❓ Prompt: What is tan(4455)?\n",
      "👍 Expected: tan(4455) = -1.0000000000\n",
      "🤖 Model: The value of \\(\\tan(4455^\\circ)\\) is \\(-1.0000000000\\).\n",
      "\n",
      "❓ Prompt: What is larger sin(sin(789)) or tan(9999)?\n",
      "👍 Expected: sin(sin(789)) = 0.0162933313, tan(9999) = -6.3137515147, 0.016293331282790816 is larger than -6.313751514675357, 0.016293331282790816 > -6.313751514675357\n",
      "🤖 Model: The value of sin(sin(789)) is approximately 0.9335804265, and the value of tan(9999) is approximately -6.3137515147. Therefore, sin(sin(789)) is larger than tan(9999).\n",
      "\n",
      "❓ Prompt: What is the value of sin(tan(8910))?\n",
      "👍 Expected: sin(tan(8910)) = 0.1447992185\n",
      "🤖 Model: The value of \\( \\sin(\\tan(8910)) \\) is approximately \\( 0.1447992185 \\).\n",
      "\n",
      "❓ Prompt: Is sin(8.333) larger than tan(5.45)?\n",
      "👍 Expected: 0.14492610296667754 is larger than 0.09540836636936197, 0.14492610296667754 > 0.09540836636936197\n",
      "🤖 Model: Yes, \\(\\sin(8.333)\\) is larger than \\(\\tan(5.45)\\). Specifically, \\(\\sin(8.333) \\approx 0.1449\\) is greater than \\(\\tan(5.45) \\approx 0.0954\\).\n",
      "\n"
     ]
    }
   ],
   "source": [
    "if __name__ == '__main__':\n",
    "    for test in TESTS:\n",
    "        print(f\"❓ Prompt: {test['prompt']}\")\n",
    "        print(f\"👍 Expected: {test['expected']}\")\n",
    "        print(f\"🤖 Model: {converse(test['prompt'])}\")\n",
    "        print()"
   ]
  },
  {
   "cell_type": "code",
   "execution_count": null,
   "metadata": {},
   "outputs": [],
   "source": []
  }
 ],
 "metadata": {
  "kernelspec": {
   "display_name": ".venv",
   "language": "python",
   "name": "python3"
  },
  "language_info": {
   "codemirror_mode": {
    "name": "ipython",
    "version": 3
   },
   "file_extension": ".py",
   "mimetype": "text/x-python",
   "name": "python",
   "nbconvert_exporter": "python",
   "pygments_lexer": "ipython3",
   "version": "3.12.0"
  }
 },
 "nbformat": 4,
 "nbformat_minor": 2
}
