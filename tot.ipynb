{
 "cells": [
  {
   "cell_type": "code",
   "execution_count": 1,
   "metadata": {},
   "outputs": [],
   "source": [
    "%%capture --no-stderr\n",
    "%pip install -U langgraph langchain-openai"
   ]
  },
  {
   "cell_type": "code",
   "execution_count": 2,
   "metadata": {},
   "outputs": [],
   "source": [
    "import os\n",
    "from dotenv import load_dotenv\n",
    "from langchain_openai import ChatOpenAI\n",
    "from langchain.prompts import PromptTemplate\n",
    "\n",
    "# Load environment variables\n",
    "load_dotenv()\n",
    "\n",
    "# Set up OpenAI API key\n",
    "os.environ[\"OPENAI_API_KEY\"] = os.getenv(\"OPENAI_API_KEY\")"
   ]
  },
  {
   "cell_type": "markdown",
   "metadata": {},
   "source": [
    "### Task Definition"
   ]
  },
  {
   "cell_type": "code",
   "execution_count": 3,
   "metadata": {},
   "outputs": [],
   "source": [
    "import operator\n",
    "from typing import List, Literal, Union, NamedTuple, Optional\n",
    "from pydantic import BaseModel, Field\n"
   ]
  },
  {
   "cell_type": "code",
   "execution_count": 4,
   "metadata": {},
   "outputs": [],
   "source": [
    "OperatorType = Literal[\"+\", \"-\", \"*\", \"/\"]\n",
    "TokenType = Union[float, OperatorType] # TokenType is a union of float, real number and OperatorType\n"
   ]
  },
  {
   "cell_type": "code",
   "execution_count": 7,
   "metadata": {},
   "outputs": [],
   "source": [
    "class Equation(BaseModel):\n",
    "    \"\"\"The formula combining the provided numbers to reach the target of 24.\"\"\"\n",
    "\n",
    "    tokens: List[TokenType] = Field(\n",
    "        description=\"The stack of tokens and operators in reverse-polish notation. Example: [3, 4, '+', -1, '*'] would evaluate to (3 + 4) * -1 = -7.\",\n",
    "    )\n",
    "\n",
    "    def compute(self) -> float:\n",
    "        op_funcs = {\n",
    "            \"+\": operator.add,\n",
    "            \"-\": operator.sub,\n",
    "            \"*\": operator.mul,\n",
    "            \"/\": operator.truediv,\n",
    "        }\n",
    "        stack = []\n",
    "        for token in self.tokens:\n",
    "            if isinstance(token, float):\n",
    "                stack.append(token)\n",
    "            else:\n",
    "                b, a = stack.pop(), stack.pop()\n",
    "                stack.append(op_funcs[token](a, b))\n",
    "\n",
    "        return stack[0]"
   ]
  },
  {
   "cell_type": "code",
   "execution_count": 11,
   "metadata": {},
   "outputs": [],
   "source": [
    "\n",
    "class GuessEquations(BaseModel):\n",
    "    \"\"\"Submit multiple equations as guesses.\"\"\"\n",
    "\n",
    "    reasoning: str = Field(\n",
    "        description=\"The reasoning behind the submitted guesses. Explain how you arrived at these equations.\"\n",
    "    )\n",
    "\n",
    "    equations: List[Equation] = Field(\n",
    "        description=\"The list of equations to submit as guesses.\"\n",
    "    )\n",
    "\n",
    "\n"
   ]
  },
  {
   "cell_type": "code",
   "execution_count": 12,
   "metadata": {},
   "outputs": [],
   "source": [
    "## These objects will represent a single \"candidate\" (or scored candidate) within our agent's state.\n",
    "# You can update the candidate object to match your own task.\n",
    "\n",
    "\n",
    "class Candidate(NamedTuple):\n",
    "    candidate: Equation\n",
    "    score: Optional[float] = None\n",
    "    feedback: Optional[str] = None\n",
    "\n",
    "    def __str__(self):\n",
    "        try:\n",
    "            computed = self.candidate.compute()\n",
    "        except Exception as e:\n",
    "            computed = f\"Invalid equation: {self.candidate.tokens}; Error: {repr(e)}\"\n",
    "\n",
    "        return f\"Equation({self.candidate.tokens}) = {computed} (Reward: {self.score})\""
   ]
  },
  {
   "cell_type": "code",
   "execution_count": 13,
   "metadata": {},
   "outputs": [],
   "source": [
    "class ScoredCandidate(Candidate):\n",
    "    candidate: Equation\n",
    "    score: float\n",
    "    feedback: str"
   ]
  },
  {
   "cell_type": "markdown",
   "metadata": {},
   "source": [
    "Fetch data"
   ]
  },
  {
   "cell_type": "code",
   "execution_count": 14,
   "metadata": {},
   "outputs": [],
   "source": [
    "import requests\n",
    "import csv"
   ]
  },
  {
   "cell_type": "code",
   "execution_count": 15,
   "metadata": {},
   "outputs": [],
   "source": [
    "\n",
    "csv_data = requests.get(\n",
    "    \"https://storage.googleapis.com/benchmarks-artifacts/game-of-24/24.csv\"\n",
    ").content.decode(\"utf-8\")"
   ]
  },
  {
   "cell_type": "code",
   "execution_count": 17,
   "metadata": {},
   "outputs": [],
   "source": [
    "# Get just the Puzzles column (column index 1)\n",
    "puzzles = [row[1].strip() for row in csv.reader(csv_data.splitlines()[1:])]"
   ]
  },
  {
   "cell_type": "code",
   "execution_count": 29,
   "metadata": {},
   "outputs": [
    {
     "data": {
      "text/plain": [
       "['1', '1', '4', '6']"
      ]
     },
     "execution_count": 29,
     "metadata": {},
     "output_type": "execute_result"
    }
   ],
   "source": [
    "puzzles[0].split()\n"
   ]
  },
  {
   "cell_type": "code",
   "execution_count": 18,
   "metadata": {},
   "outputs": [
    {
     "name": "stdout",
     "output_type": "stream",
     "text": [
      "Example puzzles: ['1 1 4 6', '1 1 11 11', '1 1 3 8']\n"
     ]
    }
   ],
   "source": [
    "print(f\"Example puzzles: {puzzles[:3]}\")\n"
   ]
  },
  {
   "cell_type": "markdown",
   "metadata": {},
   "source": [
    "### Expander"
   ]
  },
  {
   "cell_type": "code",
   "execution_count": 19,
   "metadata": {},
   "outputs": [],
   "source": [
    "from langchain_core.prompts import ChatPromptTemplate\n",
    "from langchain_openai import ChatOpenAI"
   ]
  },
  {
   "cell_type": "code",
   "execution_count": 20,
   "metadata": {},
   "outputs": [],
   "source": [
    "prompt = ChatPromptTemplate.from_messages(\n",
    "    [\n",
    "        (\n",
    "            \"system\",\n",
    "            \"You are playing the Game of 24. Using the provide numbers, create an equation that evaluates to 24.\\n\"\n",
    "            \"Submit exactly {k} guesses for this round.\",\n",
    "        ),\n",
    "        (\"user\", \"Solve the 24 game for these numbers: {problem}.{candidate}\"),\n",
    "    ],\n",
    ").partial(candidate=\"\")"
   ]
  },
  {
   "cell_type": "code",
   "execution_count": 23,
   "metadata": {},
   "outputs": [],
   "source": [
    "llm = ChatOpenAI(model=\"gpt-4o-mini\")\n",
    "bound_llm = llm.with_structured_output(GuessEquations)"
   ]
  },
  {
   "cell_type": "code",
   "execution_count": 26,
   "metadata": {},
   "outputs": [],
   "source": [
    "solver = prompt | bound_llm\n"
   ]
  },
  {
   "cell_type": "markdown",
   "metadata": {},
   "source": [
    "### Scorer"
   ]
  },
  {
   "cell_type": "code",
   "execution_count": 30,
   "metadata": {},
   "outputs": [],
   "source": [
    "def compute_score(problem: str, candidate: Candidate) -> ScoredCandidate:\n",
    "    numbers = list(map(int, problem.split()))\n",
    "    # Check that the candidate equation uses all 4 numbers exactly once\n",
    "    used_numbers = [\n",
    "        token for token in candidate.candidate.tokens if isinstance(token, float)\n",
    "    ]\n",
    "    if sorted(used_numbers) != sorted(numbers):\n",
    "        score = 0\n",
    "        feedback = \"The equation must use all 4 numbers exactly once.\"\n",
    "        return ScoredCandidate(\n",
    "            candidate=candidate.candidate, score=score, feedback=feedback\n",
    "        )\n",
    "    try:\n",
    "        result = candidate.candidate.compute()\n",
    "        score = 1 / (1 + abs(24 - result))\n",
    "        feedback = f\"Result: {result}\"\n",
    "    except Exception as e:\n",
    "        score = 0\n",
    "        feedback = f\"Invalid equation. Error: {repr(e)}\"\n",
    "    return ScoredCandidate(\n",
    "        candidate=candidate.candidate, score=score, feedback=feedback\n",
    "    )"
   ]
  },
  {
   "cell_type": "markdown",
   "metadata": {},
   "source": [
    "### Graph"
   ]
  },
  {
   "cell_type": "code",
   "execution_count": 31,
   "metadata": {},
   "outputs": [],
   "source": [
    "import operator\n",
    "from typing import Optional, Dict, Any\n",
    "from typing_extensions import Annotated, TypedDict\n",
    "from langgraph.graph import StateGraph"
   ]
  },
  {
   "cell_type": "code",
   "execution_count": 32,
   "metadata": {},
   "outputs": [],
   "source": [
    "\n",
    "from langchain_core.runnables import RunnableConfig\n",
    "from langgraph.constants import Send\n",
    "from langgraph.checkpoint.memory import MemorySaver"
   ]
  },
  {
   "cell_type": "code",
   "execution_count": 33,
   "metadata": {},
   "outputs": [],
   "source": [
    "def update_candidates(\n",
    "    existing: Optional[list] = None,\n",
    "    updates: Optional[Union[list, Literal[\"clear\"]]] = None,\n",
    ") -> List[str]:\n",
    "    if existing is None:\n",
    "        existing = []\n",
    "    if updates is None:\n",
    "        return existing\n",
    "    if updates == \"clear\":\n",
    "        return []\n",
    "    # Concatenate the lists\n",
    "    return existing + updates"
   ]
  },
  {
   "cell_type": "code",
   "execution_count": 34,
   "metadata": {},
   "outputs": [],
   "source": [
    "class ToTState(TypedDict):\n",
    "    problem: str\n",
    "    candidates: Annotated[List[Candidate], update_candidates]\n",
    "    scored_candidates: Annotated[List[ScoredCandidate], update_candidates]\n",
    "    depth: Annotated[int, operator.add]"
   ]
  },
  {
   "cell_type": "code",
   "execution_count": 35,
   "metadata": {},
   "outputs": [],
   "source": [
    "class Configuration(TypedDict, total=False):\n",
    "    max_depth: int\n",
    "    threshold: float\n",
    "    k: int\n",
    "    beam_size: int"
   ]
  },
  {
   "cell_type": "code",
   "execution_count": 36,
   "metadata": {},
   "outputs": [],
   "source": [
    "def _ensure_configurable(config: RunnableConfig) -> Configuration:\n",
    "    \"\"\"Get params that configure the search algorithm.\"\"\"\n",
    "    configurable = config.get(\"configurable\", {})\n",
    "    return {\n",
    "        **configurable,\n",
    "        \"max_depth\": configurable.get(\"max_depth\", 10),\n",
    "        \"threshold\": config.get(\"threshold\", 0.9),\n",
    "        \"k\": configurable.get(\"k\", 5),\n",
    "        \"beam_size\": configurable.get(\"beam_size\", 3),\n",
    "    }"
   ]
  },
  {
   "cell_type": "code",
   "execution_count": 37,
   "metadata": {},
   "outputs": [],
   "source": [
    "class ExpansionState(ToTState):\n",
    "    seed: Optional[Candidate]"
   ]
  },
  {
   "cell_type": "code",
   "execution_count": 38,
   "metadata": {},
   "outputs": [],
   "source": [
    "def expand(state: ExpansionState, *, config: RunnableConfig) -> Dict[str, List[str]]:\n",
    "    \"\"\"Generate the next state.\"\"\"\n",
    "    configurable = _ensure_configurable(config)\n",
    "    if not state.get(\"seed\"):\n",
    "        candidate_str = \"\"\n",
    "    else:\n",
    "        candidate_str = \"\\n\\n\" + str(state[\"seed\"])\n",
    "    try:\n",
    "        equation_submission = solver.invoke(\n",
    "            {\n",
    "                \"problem\": state[\"problem\"],\n",
    "                \"candidate\": candidate_str,\n",
    "                \"k\": configurable[\"k\"],\n",
    "            },\n",
    "            config=config,\n",
    "        )\n",
    "    except Exception:\n",
    "        return {\"candidates\": []}\n",
    "    new_candidates = [\n",
    "        Candidate(candidate=equation) for equation in equation_submission.equations\n",
    "    ]\n",
    "    return {\"candidates\": new_candidates}"
   ]
  },
  {
   "cell_type": "code",
   "execution_count": 39,
   "metadata": {},
   "outputs": [],
   "source": [
    "def score(state: ToTState) -> Dict[str, List[float]]:\n",
    "    \"\"\"Evaluate the candidate generations.\"\"\"\n",
    "    candidates = state[\"candidates\"]\n",
    "    scored = []\n",
    "    for candidate in candidates:\n",
    "        scored.append(compute_score(state[\"problem\"], candidate))\n",
    "    return {\"scored_candidates\": scored, \"candidates\": \"clear\"}"
   ]
  },
  {
   "cell_type": "code",
   "execution_count": 40,
   "metadata": {},
   "outputs": [],
   "source": [
    "def prune(\n",
    "    state: ToTState, *, config: RunnableConfig\n",
    ") -> Dict[str, List[Dict[str, Any]]]:\n",
    "    scored_candidates = state[\"scored_candidates\"]\n",
    "    beam_size = _ensure_configurable(config)[\"beam_size\"]\n",
    "    organized = sorted(\n",
    "        scored_candidates, key=lambda candidate: candidate[1], reverse=True\n",
    "    )\n",
    "    pruned = organized[:beam_size]\n",
    "    return {\n",
    "        # Update the starting point for the next iteration\n",
    "        \"candidates\": pruned,\n",
    "        # Clear the old memory\n",
    "        \"scored_candidates\": \"clear\",\n",
    "        # Increment the depth by 1\n",
    "        \"depth\": 1,\n",
    "    }"
   ]
  },
  {
   "cell_type": "code",
   "execution_count": 41,
   "metadata": {},
   "outputs": [],
   "source": [
    "def should_terminate(\n",
    "    state: ToTState, config: RunnableConfig\n",
    ") -> Union[Literal[\"__end__\"], Send]:\n",
    "    configurable = _ensure_configurable(config)\n",
    "    solved = state[\"candidates\"][0].score >= configurable[\"threshold\"]\n",
    "    if solved or state[\"depth\"] >= configurable[\"max_depth\"]:\n",
    "        return \"__end__\"\n",
    "    return [\n",
    "        Send(\"expand\", {**state, \"somevalseed\": candidate})\n",
    "        for candidate in state[\"candidates\"]\n",
    "    ]"
   ]
  },
  {
   "cell_type": "code",
   "execution_count": 42,
   "metadata": {},
   "outputs": [],
   "source": [
    "# Create the graph\n",
    "builder = StateGraph(state_schema=ToTState, config_schema=Configuration)"
   ]
  },
  {
   "cell_type": "code",
   "execution_count": 43,
   "metadata": {},
   "outputs": [
    {
     "data": {
      "text/plain": [
       "<langgraph.graph.state.StateGraph at 0x2508cdbde80>"
      ]
     },
     "execution_count": 43,
     "metadata": {},
     "output_type": "execute_result"
    }
   ],
   "source": [
    "# Add nodes\n",
    "builder.add_node(expand)\n",
    "builder.add_node(score)\n",
    "builder.add_node(prune)"
   ]
  },
  {
   "cell_type": "code",
   "execution_count": 45,
   "metadata": {},
   "outputs": [
    {
     "data": {
      "text/plain": [
       "<langgraph.graph.state.StateGraph at 0x2508cdbde80>"
      ]
     },
     "execution_count": 45,
     "metadata": {},
     "output_type": "execute_result"
    }
   ],
   "source": [
    "# Add edges\n",
    "builder.add_edge(\"expand\", \"score\")\n",
    "builder.add_edge(\"score\", \"prune\")\n",
    "builder.add_conditional_edges(\"prune\", should_terminate, path_map=[\"expand\", \"__end__\"])"
   ]
  },
  {
   "cell_type": "code",
   "execution_count": 46,
   "metadata": {},
   "outputs": [
    {
     "data": {
      "text/plain": [
       "<langgraph.graph.state.StateGraph at 0x2508cdbde80>"
      ]
     },
     "execution_count": 46,
     "metadata": {},
     "output_type": "execute_result"
    }
   ],
   "source": [
    "# Set entry point\n",
    "builder.add_edge(\"__start__\", \"expand\")"
   ]
  },
  {
   "cell_type": "code",
   "execution_count": 47,
   "metadata": {},
   "outputs": [],
   "source": [
    "# Compile the graph\n",
    "graph = builder.compile(checkpointer=MemorySaver())"
   ]
  },
  {
   "cell_type": "code",
   "execution_count": 48,
   "metadata": {},
   "outputs": [
    {
     "data": {
      "image/png": "[encoded data removed]",
      "text/plain": [
       "<IPython.core.display.Image object>"
      ]
     },
     "metadata": {},
     "output_type": "display_data"
    }
   ],
   "source": [
    "from IPython.display import Image, display\n",
    "display(Image(graph.get_graph().draw_mermaid_png()))"
   ]
  },
  {
   "cell_type": "markdown",
   "metadata": {},
   "source": [
    "### Run"
   ]
  },
  {
   "cell_type": "code",
   "execution_count": null,
   "metadata": {},
   "outputs": [],
   "source": []
  }
 ],
 "metadata": {
  "kernelspec": {
   "display_name": ".venv",
   "language": "python",
   "name": "python3"
  },
  "language_info": {
   "codemirror_mode": {
    "name": "ipython",
    "version": 3
   },
   "file_extension": ".py",
   "mimetype": "text/x-python",
   "name": "python",
   "nbconvert_exporter": "python",
   "pygments_lexer": "ipython3",
   "version": "3.12.0"
  }
 },
 "nbformat": 4,
 "nbformat_minor": 2
}
